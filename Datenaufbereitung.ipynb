{
 "cells": [
  {
   "cell_type": "code",
   "execution_count": null,
   "id": "ea716633",
   "metadata": {},
   "outputs": [],
   "source": [
    "import pandas as pd\n",
    "import numpy as np\n",
    "from matplotlib import pyplot as plt"
   ]
  },
  {
   "cell_type": "code",
   "execution_count": null,
   "id": "f5585354",
   "metadata": {},
   "outputs": [],
   "source": [
    "%matplotlib inline"
   ]
  },
  {
   "cell_type": "code",
   "execution_count": null,
   "id": "5cb582af",
   "metadata": {},
   "outputs": [],
   "source": [
    "def clean_inzidenzen_gemeinden_ueber_500():\n",
    "    data=pd.read_csv(\"Data_Private/raw/C25/Inzidenzen Gemeinden über 500.csv\", sep=\";\",\n",
    "                 encoding='Latin1',\n",
    "                 parse_dates=True, index_col=0)\n",
    "    data = data.transpose()\n",
    "    data.to_csv('Data_Private/prepared/cleaned_inzidenzen-gemeinden-ueber-500.csv')\n",
    "    # cleaned=pd.read_csv(\"cleaned_inzidenzen-gemeinden-ueber-500.csv\",parse_dates=True, index_col=0)\n",
    "    return data"
   ]
  },
  {
   "cell_type": "code",
   "execution_count": null,
   "id": "f9c24b3e",
   "metadata": {},
   "outputs": [],
   "source": [
    "def create_for_insert_statements_inzidenzen_gemeinden_ueber_500():\n",
    "    data = clean_inzidenzen_gemeinden_ueber_500()\n",
    "    dataframes = list()\n",
    "    for col in data.columns:\n",
    "        col_data = pd.DataFrame(data[col])\n",
    "        col_data['Gemeinde'] = col\n",
    "        col_data['Inzidenz'] = col_data[col]\n",
    "        col_data = col_data[['Inzidenz', 'Gemeinde']]\n",
    "        dataframes.append(col_data)\n",
    "\n",
    "    df = pd.concat(dataframes).dropna()\n",
    "    df.to_csv('for_insert_inzidenzen-gemeinden-ueber-500.csv')"
   ]
  },
  {
   "cell_type": "code",
   "execution_count": null,
   "id": "0b872447",
   "metadata": {},
   "outputs": [],
   "source": [
    "def clean_vacme_ueber_500():\n",
    "    data=pd.read_csv(\"Data_Private/raw/C25/VacMe - Gemeinden über 500.csv\", sep=\";\",\n",
    "                 encoding='Latin1',\n",
    "                 parse_dates=True, index_col=0)\n",
    "    # Remove unnamed cols\n",
    "    data = data[[c for c in data.columns if not \"Unnamed\" in c]]\n",
    "    data.to_csv('Data_Private/prepared/cleaned_VacMe_Gemeinden_ueber_500.csv')"
   ]
  },
  {
   "cell_type": "code",
   "execution_count": null,
   "id": "a7627478",
   "metadata": {},
   "outputs": [],
   "source": [
    "def clean_vacme_inkl_altersgruppen():\n",
    "    data=pd.read_csv(\"Data_Private/raw/C25/VacMe - Gemeinden inkl Altersgruppen über 250.csv\", sep=\";\",\n",
    "                 encoding='Latin1',\n",
    "                 parse_dates=True, index_col=0)\n",
    "    # Remove unnamed cols\n",
    "    data = data[[c for c in data.columns if not \"Unnamed\" in c]]\n",
    "    data.to_csv('Data_Private/prepared/cleaned_VacMe_Gemeinden_inkl_Altersgruppen_250.csv')"
   ]
  },
  {
   "cell_type": "markdown",
   "id": "8a200e44",
   "metadata": {},
   "source": [
    "# Clean all"
   ]
  },
  {
   "cell_type": "code",
   "execution_count": null,
   "id": "b1fc3e1d",
   "metadata": {},
   "outputs": [],
   "source": [
    "create_for_insert_statements_inzidenzen_gemeinden_ueber_500()\n",
    "clean_vacme_ueber_500()\n",
    "clean_vacme_inkl_altersgruppen()"
   ]
  },
  {
   "cell_type": "markdown",
   "id": "4fad8728",
   "metadata": {},
   "source": [
    "# Read Data"
   ]
  },
  {
   "cell_type": "code",
   "execution_count": null,
   "id": "571a0615",
   "metadata": {},
   "outputs": [],
   "source": [
    "data=pd.read_csv(\"Data_Private/prepared/cleaned_VacMe_Gemeinden_inkl_Altersgruppen_250.csv\", parse_dates=True)"
   ]
  },
  {
   "cell_type": "code",
   "execution_count": null,
   "id": "f3596d7e",
   "metadata": {
    "scrolled": true
   },
   "outputs": [],
   "source": [
    "data.head()"
   ]
  },
  {
   "cell_type": "code",
   "execution_count": null,
   "id": "13b7423b",
   "metadata": {},
   "outputs": [],
   "source": []
  },
  {
   "cell_type": "code",
   "execution_count": null,
   "id": "4d078495",
   "metadata": {},
   "outputs": [],
   "source": []
  }
 ],
 "metadata": {
  "kernelspec": {
   "display_name": "Python 3",
   "language": "python",
   "name": "python3"
  },
  "language_info": {
   "codemirror_mode": {
    "name": "ipython",
    "version": 3
   },
   "file_extension": ".py",
   "mimetype": "text/x-python",
   "name": "python",
   "nbconvert_exporter": "python",
   "pygments_lexer": "ipython3",
   "version": "3.9.7"
  }
 },
 "nbformat": 4,
 "nbformat_minor": 5
}
