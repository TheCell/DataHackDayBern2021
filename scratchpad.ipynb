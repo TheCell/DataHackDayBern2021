{
 "cells": [
  {
   "cell_type": "code",
   "execution_count": null,
   "id": "9747e732",
   "metadata": {},
   "outputs": [],
   "source": [
    "import pandas as pd\n",
    "import numpy as np\n",
    "from matplotlib import pyplot as plt\n",
    "%matplotlib inline"
   ]
  },
  {
   "cell_type": "code",
   "execution_count": null,
   "id": "771d9995",
   "metadata": {},
   "outputs": [],
   "source": [
    "data = pd.read_csv('Data_Public/eigenimpfscore.csv')"
   ]
  },
  {
   "cell_type": "code",
   "execution_count": null,
   "id": "6c3d3d0b",
   "metadata": {},
   "outputs": [],
   "source": [
    "data.head()"
   ]
  },
  {
   "cell_type": "code",
   "execution_count": null,
   "id": "00b90d92",
   "metadata": {},
   "outputs": [],
   "source": [
    "portrait = pd.read_csv('Data_Public/generated/regionalportraets2021Gemeinden.csv', sep=\";\",\n",
    "                 encoding='Latin1', header=5,\n",
    "                 parse_dates=True )\n",
    "portrait"
   ]
  },
  {
   "cell_type": "code",
   "execution_count": null,
   "id": "e3c3634d",
   "metadata": {
    "scrolled": true
   },
   "outputs": [],
   "source": [
    "portrait.dropna(axis=0)"
   ]
  },
  {
   "cell_type": "code",
   "execution_count": null,
   "id": "e2bc0614",
   "metadata": {},
   "outputs": [],
   "source": [
    "codes = portrait[['Gemeindecode', 'Gemeindename']].dropna()\n",
    "codes.head()"
   ]
  },
  {
   "cell_type": "code",
   "execution_count": null,
   "id": "59f1b6fb",
   "metadata": {},
   "outputs": [],
   "source": [
    "codes.set_index('Gemeindecode')"
   ]
  },
  {
   "cell_type": "code",
   "execution_count": null,
   "id": "cb8d94a2",
   "metadata": {},
   "outputs": [],
   "source": []
  }
 ],
 "metadata": {
  "kernelspec": {
   "display_name": "Python 3",
   "language": "python",
   "name": "python3"
  },
  "language_info": {
   "codemirror_mode": {
    "name": "ipython",
    "version": 3
   },
   "file_extension": ".py",
   "mimetype": "text/x-python",
   "name": "python",
   "nbconvert_exporter": "python",
   "pygments_lexer": "ipython3",
   "version": "3.9.7"
  }
 },
 "nbformat": 4,
 "nbformat_minor": 5
}
