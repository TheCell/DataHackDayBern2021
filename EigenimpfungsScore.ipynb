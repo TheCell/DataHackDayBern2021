{
 "cells": [
  {
   "cell_type": "code",
   "execution_count": null,
   "id": "b1814389",
   "metadata": {},
   "outputs": [],
   "source": [
    "import pandas as pd\n",
    "import numpy as np\n",
    "from matplotlib import pyplot as plt\n",
    "%matplotlib inline"
   ]
  },
  {
   "cell_type": "code",
   "execution_count": null,
   "id": "2ccc076f",
   "metadata": {},
   "outputs": [],
   "source": [
    "data = pd.read_csv('Data_Private/prepared/cleaned_VacMe_Gemeinden_ueber_500.csv')"
   ]
  },
  {
   "cell_type": "code",
   "execution_count": null,
   "id": "25218312",
   "metadata": {},
   "outputs": [],
   "source": [
    "data.head()"
   ]
  },
  {
   "cell_type": "code",
   "execution_count": null,
   "id": "1cb3d33a",
   "metadata": {},
   "outputs": [],
   "source": [
    "data['Erstimpfung ODI Typ'].unique()"
   ]
  },
  {
   "cell_type": "code",
   "execution_count": null,
   "id": "a44dda89",
   "metadata": {},
   "outputs": [],
   "source": [
    "gemeinden = data['Wohngemeinde'].unique()\n",
    "gemeinden = [g for g in gemeinden if type(g) is str]"
   ]
  },
  {
   "cell_type": "code",
   "execution_count": null,
   "id": "972811d9",
   "metadata": {},
   "outputs": [],
   "source": [
    "geimpfte_thuner = data[data['Wohngemeinde']=='Thun'].shape[0]"
   ]
  },
  {
   "cell_type": "code",
   "execution_count": null,
   "id": "4c869d56",
   "metadata": {},
   "outputs": [],
   "source": [
    "geimpfte = data[data['Vollstaendiger_Impfschutz'] == 'WAHR']"
   ]
  },
  {
   "cell_type": "code",
   "execution_count": null,
   "id": "28cf7077",
   "metadata": {},
   "outputs": [],
   "source": [
    "geimpfte.shape[0]"
   ]
  },
  {
   "cell_type": "code",
   "execution_count": null,
   "id": "9b85c92d",
   "metadata": {
    "scrolled": true
   },
   "outputs": [],
   "source": [
    "geimpfte[geimpfte['Zweitimpfung Gemeinde'] != geimpfte['Erstimpfung Gemeinde']].shape[0]"
   ]
  },
  {
   "cell_type": "code",
   "execution_count": null,
   "id": "79e77f27",
   "metadata": {},
   "outputs": [],
   "source": [
    "anzahl_heimgeimpfte = geimpfte[geimpfte['Wohngemeinde'] == geimpfte['Erstimpfung Gemeinde']].shape[0]"
   ]
  },
  {
   "cell_type": "code",
   "execution_count": null,
   "id": "93cbfc8d",
   "metadata": {},
   "outputs": [],
   "source": [
    "anzahl_geimpfte = geimpfte.shape[0]"
   ]
  },
  {
   "cell_type": "code",
   "execution_count": null,
   "id": "51e94ad0",
   "metadata": {},
   "outputs": [],
   "source": [
    "print('total score: ', anzahl_heimgeimpfte / anzahl_geimpfte)"
   ]
  },
  {
   "cell_type": "code",
   "execution_count": null,
   "id": "53545437",
   "metadata": {},
   "outputs": [],
   "source": [
    "_eigenimpfscore_map = {}\n",
    "for g in sorted(gemeinden):\n",
    "    einw = geimpfte[geimpfte['Wohngemeinde']==g]\n",
    "    heim_impfungen = einw[g == einw['Erstimpfung Gemeinde']].shape[0]\n",
    "    anz_einw = einw.shape[0]\n",
    "    score = heim_impfungen / anz_einw\n",
    "    _eigenimpfscore_map[g] = score"
   ]
  },
  {
   "cell_type": "code",
   "execution_count": null,
   "id": "254c9258",
   "metadata": {},
   "outputs": [],
   "source": [
    "_hatImpzentrum_map = {}\n",
    "for g in sorted(gemeinden):\n",
    "    impfz = geimpfte[(geimpfte['Erstimpfung ODI Typ'] == 'Impfzentrum') & (geimpfte['Erstimpfung Gemeinde'] == g)]\n",
    "    if impfz.shape[0] > 0:\n",
    "        _hatImpzentrum_map[g] = True\n",
    "    else:\n",
    "        _hatImpzentrum_map[g] = False\n",
    "print(_hatImpzentrum_map)"
   ]
  },
  {
   "cell_type": "code",
   "execution_count": null,
   "id": "803cc9a7",
   "metadata": {
    "scrolled": false
   },
   "outputs": [],
   "source": [
    "df = pd.DataFrame({'score': _eigenimpfscore_map, 'hatImpfzentrum': _hatImpzentrum_map})"
   ]
  },
  {
   "cell_type": "code",
   "execution_count": null,
   "id": "0fd79cfa",
   "metadata": {
    "scrolled": true
   },
   "outputs": [],
   "source": [
    "df.sort_values('score')"
   ]
  },
  {
   "cell_type": "code",
   "execution_count": null,
   "id": "cfe6c804",
   "metadata": {},
   "outputs": [],
   "source": [
    "# df.to_csv('Data_Public/eigenimpfscore.csv')"
   ]
  },
  {
   "cell_type": "code",
   "execution_count": null,
   "id": "83c3dede",
   "metadata": {},
   "outputs": [],
   "source": [
    "def clean_gemeindecode():\n",
    "    portrait = pd.read_csv('Data_Public/generated/regionalportraets2021Gemeinden.csv', sep=\";\",\n",
    "                 encoding='Latin1', header=5,\n",
    "                 parse_dates=True )\n",
    "    codes = portrait[['Gemeindecode', 'Gemeindename']].dropna()\n",
    "    return codes.set_index('Gemeindecode')"
   ]
  },
  {
   "cell_type": "code",
   "execution_count": null,
   "id": "2f0d6d21",
   "metadata": {},
   "outputs": [],
   "source": [
    "codes = clean_gemeindecode()"
   ]
  },
  {
   "cell_type": "code",
   "execution_count": null,
   "id": "3cdcadcc",
   "metadata": {},
   "outputs": [],
   "source": [
    "codes.head()"
   ]
  },
  {
   "cell_type": "code",
   "execution_count": null,
   "id": "70dc36a1",
   "metadata": {},
   "outputs": [],
   "source": [
    "merged = pd.merge(codes, df, left_on='Gemeindename', right_index=True).reset_index()\n",
    "merged.head()"
   ]
  },
  {
   "cell_type": "code",
   "execution_count": null,
   "id": "a8c5fda0",
   "metadata": {
    "scrolled": true
   },
   "outputs": [],
   "source": [
    "merged = merged.rename(columns={'Gemeindecode': 'bfs_nummer', 'score': 'value'})"
   ]
  },
  {
   "cell_type": "code",
   "execution_count": null,
   "id": "b1eea238",
   "metadata": {},
   "outputs": [],
   "source": [
    "eigenscore = merged[['bfs_nummer', 'value']]"
   ]
  },
  {
   "cell_type": "code",
   "execution_count": null,
   "id": "6a83d14d",
   "metadata": {
    "scrolled": true
   },
   "outputs": [],
   "source": [
    "eigenscore"
   ]
  },
  {
   "cell_type": "code",
   "execution_count": null,
   "id": "55758d13",
   "metadata": {
    "scrolled": true
   },
   "outputs": [],
   "source": [
    "for k, v in eigenscore.iterrows():\n",
    "    break\n",
    "    \n",
    "    \n",
    "' '.join([f'INSERT INTO gemeinde_eigenimpf(bfs_nummer, score) VALUES ({v[\"bfs_nummer\"]}, {v[\"value\"]});' for _,v in eigenscore.iterrows()])"
   ]
  },
  {
   "cell_type": "code",
   "execution_count": null,
   "id": "29d2ef83",
   "metadata": {},
   "outputs": [],
   "source": [
    "eigenscore.to_csv('')"
   ]
  },
  {
   "cell_type": "code",
   "execution_count": null,
   "id": "06be794d",
   "metadata": {},
   "outputs": [],
   "source": []
  }
 ],
 "metadata": {
  "kernelspec": {
   "display_name": "Python 3",
   "language": "python",
   "name": "python3"
  },
  "language_info": {
   "codemirror_mode": {
    "name": "ipython",
    "version": 3
   },
   "file_extension": ".py",
   "mimetype": "text/x-python",
   "name": "python",
   "nbconvert_exporter": "python",
   "pygments_lexer": "ipython3",
   "version": "3.9.7"
  }
 },
 "nbformat": 4,
 "nbformat_minor": 5
}
