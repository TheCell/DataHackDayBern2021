{
 "cells": [
  {
   "cell_type": "code",
   "execution_count": 1,
   "id": "aaf2ddfe",
   "metadata": {},
   "outputs": [],
   "source": [
    "import pandas as pd\n",
    "import numpy as np\n",
    "from matplotlib import pyplot as plt\n",
    "%matplotlib inline"
   ]
  },
  {
   "cell_type": "code",
   "execution_count": 33,
   "id": "3dc22560",
   "metadata": {},
   "outputs": [],
   "source": [
    "data = pd.read_csv('Data_Private/prepared/cleaned_VacMe_Gemeinden_ueber_500.csv')"
   ]
  },
  {
   "cell_type": "code",
   "execution_count": 34,
   "id": "949ee325",
   "metadata": {},
   "outputs": [
    {
     "data": {
      "text/html": [
       "<div>\n",
       "<style scoped>\n",
       "    .dataframe tbody tr th:only-of-type {\n",
       "        vertical-align: middle;\n",
       "    }\n",
       "\n",
       "    .dataframe tbody tr th {\n",
       "        vertical-align: top;\n",
       "    }\n",
       "\n",
       "    .dataframe thead th {\n",
       "        text-align: right;\n",
       "    }\n",
       "</style>\n",
       "<table border=\"1\" class=\"dataframe\">\n",
       "  <thead>\n",
       "    <tr style=\"text-align: right;\">\n",
       "      <th></th>\n",
       "      <th>Registration</th>\n",
       "      <th>Geschlecht</th>\n",
       "      <th>Vollstaendiger_Impfschutz</th>\n",
       "      <th>Imfgruppe</th>\n",
       "      <th>Wohngemeinde</th>\n",
       "      <th>Erstimpfung ODI Typ</th>\n",
       "      <th>Erstimpfung Gemeinde</th>\n",
       "      <th>Erstimpfung</th>\n",
       "      <th>Zweitimpfung ODI Typ</th>\n",
       "      <th>Zweitimpfung Gemeinde</th>\n",
       "      <th>Zweitimpfung</th>\n",
       "    </tr>\n",
       "  </thead>\n",
       "  <tbody>\n",
       "    <tr>\n",
       "      <th>0</th>\n",
       "      <td>2021-02-28</td>\n",
       "      <td>MAENNLICH</td>\n",
       "      <td>WAHR</td>\n",
       "      <td>N</td>\n",
       "      <td>Thun</td>\n",
       "      <td>Impfzentrum</td>\n",
       "      <td>Thun</td>\n",
       "      <td>02.06.2021</td>\n",
       "      <td>Impfzentrum</td>\n",
       "      <td>Thun</td>\n",
       "      <td>30.06.2021</td>\n",
       "    </tr>\n",
       "    <tr>\n",
       "      <th>1</th>\n",
       "      <td>2021-10-02</td>\n",
       "      <td>WEIBLICH</td>\n",
       "      <td>WAHR</td>\n",
       "      <td>G</td>\n",
       "      <td>Thun</td>\n",
       "      <td>Impfzentrum</td>\n",
       "      <td>Thun</td>\n",
       "      <td>03.07.2021</td>\n",
       "      <td>Impfzentrum</td>\n",
       "      <td>Thun</td>\n",
       "      <td>02.08.2021</td>\n",
       "    </tr>\n",
       "    <tr>\n",
       "      <th>2</th>\n",
       "      <td>2021-07-05</td>\n",
       "      <td>WEIBLICH</td>\n",
       "      <td>FALSCH</td>\n",
       "      <td>F</td>\n",
       "      <td>Thun</td>\n",
       "      <td>NaN</td>\n",
       "      <td>NaN</td>\n",
       "      <td>NaN</td>\n",
       "      <td>NaN</td>\n",
       "      <td>NaN</td>\n",
       "      <td>NaN</td>\n",
       "    </tr>\n",
       "    <tr>\n",
       "      <th>3</th>\n",
       "      <td>2021-10-03</td>\n",
       "      <td>MAENNLICH</td>\n",
       "      <td>WAHR</td>\n",
       "      <td>N</td>\n",
       "      <td>Thun</td>\n",
       "      <td>Impfzentrum</td>\n",
       "      <td>Thun</td>\n",
       "      <td>03.08.2021</td>\n",
       "      <td>Impfzentrum</td>\n",
       "      <td>Thun</td>\n",
       "      <td>31.08.2021</td>\n",
       "    </tr>\n",
       "    <tr>\n",
       "      <th>4</th>\n",
       "      <td>2021-01-15</td>\n",
       "      <td>WEIBLICH</td>\n",
       "      <td>WAHR</td>\n",
       "      <td>A</td>\n",
       "      <td>Thun</td>\n",
       "      <td>Impfzentrum</td>\n",
       "      <td>Bern</td>\n",
       "      <td>11.02.2021</td>\n",
       "      <td>Impfzentrum</td>\n",
       "      <td>Bern</td>\n",
       "      <td>11.03.2021</td>\n",
       "    </tr>\n",
       "  </tbody>\n",
       "</table>\n",
       "</div>"
      ],
      "text/plain": [
       "  Registration Geschlecht Vollstaendiger_Impfschutz Imfgruppe Wohngemeinde  \\\n",
       "0   2021-02-28  MAENNLICH                      WAHR         N         Thun   \n",
       "1   2021-10-02   WEIBLICH                      WAHR         G         Thun   \n",
       "2   2021-07-05   WEIBLICH                    FALSCH         F         Thun   \n",
       "3   2021-10-03  MAENNLICH                      WAHR         N         Thun   \n",
       "4   2021-01-15   WEIBLICH                      WAHR         A         Thun   \n",
       "\n",
       "  Erstimpfung ODI Typ Erstimpfung Gemeinde Erstimpfung Zweitimpfung ODI Typ  \\\n",
       "0         Impfzentrum                 Thun  02.06.2021          Impfzentrum   \n",
       "1         Impfzentrum                 Thun  03.07.2021          Impfzentrum   \n",
       "2                 NaN                  NaN         NaN                  NaN   \n",
       "3         Impfzentrum                 Thun  03.08.2021          Impfzentrum   \n",
       "4         Impfzentrum                 Bern  11.02.2021          Impfzentrum   \n",
       "\n",
       "  Zweitimpfung Gemeinde Zweitimpfung  \n",
       "0                  Thun   30.06.2021  \n",
       "1                  Thun   02.08.2021  \n",
       "2                   NaN          NaN  \n",
       "3                  Thun   31.08.2021  \n",
       "4                  Bern   11.03.2021  "
      ]
     },
     "execution_count": 34,
     "metadata": {},
     "output_type": "execute_result"
    }
   ],
   "source": [
    "data.head()"
   ]
  },
  {
   "cell_type": "code",
   "execution_count": 108,
   "id": "c18e3797",
   "metadata": {},
   "outputs": [
    {
     "data": {
      "text/plain": [
       "array(['Impfzentrum', nan, 'Spital', 'Arztpraxis', 'Mobiles Impfteam',\n",
       "       'Apotheke', 'Alters- und Pflegeheim', 'Impfpraxis', 'Betriebe',\n",
       "       'Andere', 'Test'], dtype=object)"
      ]
     },
     "execution_count": 108,
     "metadata": {},
     "output_type": "execute_result"
    }
   ],
   "source": [
    "data['Erstimpfung ODI Typ'].unique()"
   ]
  },
  {
   "cell_type": "code",
   "execution_count": 74,
   "id": "dc359f37",
   "metadata": {},
   "outputs": [
    {
     "name": "stdout",
     "output_type": "stream",
     "text": [
      "['Thun', 'Lauterbrunnen', 'Münchenbuchsee', 'Evilard', 'Bern', 'Saint-Imier', 'Spiez', 'Wynau', 'Vechigen', 'Büetigen', 'Uetendorf', 'Saicourt', 'Saanen', 'Biel/Bienne', 'Corgémont', 'Herzogenbuchsee', 'Rüeggisberg', 'Koppigen', 'Orpund', 'Kallnach', 'Aeschi bei Spiez', 'Reconvilier', 'Huttwil', 'Rüegsau', 'Rubigen', 'Wimmis', 'Grindelwald', 'Aarberg', 'Brügg', 'Unterseen', 'Rapperswil (BE)', 'Bönigen', 'Valbirse', 'Bolligen', 'Sonceboz-Sombeval', 'Sauge', 'Muri bei Bern', 'Brüttelen', 'Tramelan', 'Steffisburg', 'Trubschachen', 'Kleine Gemeinde', 'Nidau', 'Wynigen', 'Lyss', 'Tavannes', 'Hasliberg', 'Interlaken', 'Langenthal', 'Kappelen', 'Lauenen', 'Bätterkinden', 'Studen (BE)', 'Thierachern', 'Moutier', 'La Neuveville', 'Gondiswil', 'Courtelary', 'Péry-La Heutte', 'Erlenbach im Simmental', 'Ostermundigen', 'Kirchberg (BE)', 'Langnau im Emmental', 'Münsingen', 'Büren an der Aare', 'Unterlangenegg', 'Walperswil', 'Seedorf (BE)', 'Radelfingen', 'Wohlen bei Bern', 'Uttigen', 'Wangen an der Aare', 'Bremgarten bei Bern', 'Kirchlindach', 'Zollikofen', 'Dotzigen', 'Schattenhalb', 'Heimberg', 'Kiesen', 'Worb', 'Fraubrunnen', 'Aegerten', 'Reichenbach im Kandertal', 'Gerzensee', 'Rüderswil', 'Ittigen', 'Ringgenberg (BE)', 'Bettenhausen', 'Eggiwil', 'Köniz', 'Adelboden', 'Meiringen', 'Gals', 'Bellmund', 'Thunstetten', 'Bannwil', 'Hilterfingen', 'Burgdorf', 'Riggisberg', 'Seftigen', 'Grossaffoltern', 'Trachselwald', 'Burgistein', 'Frutigen', 'Kandersteg', 'Hofstetten bei Brienz', 'Niedermuhlern', 'Guggisberg', 'Ferenbalm', 'Bowil', 'Schüpfen', 'Wyssachen', 'Biglen', 'Signau', 'Lützelflüh', 'Twann-Tüscherz', 'Kernenried', 'Belp', 'Kandergrund', 'Boltigen', 'Thurnen', 'Niederhünigen', 'Urtenen-Schönbühl', 'Madiswil', 'Niederbipp', 'Oberhofen am Thunersee', 'Walterswil (BE)', 'Hasle bei Burgdorf', 'Innertkirchen', 'Frauenkappelen', 'Ochlenberg', 'Landiswil', 'Sumiswald', 'Worben', 'Schwarzenburg', 'Konolfingen', 'Grosshöchstetten', 'Oberthal', 'Arch', 'Wattenwil', 'Mirchel', 'Rüschegg', 'Utzenstorf', 'Oberburg', 'Leuzigen', 'Walkringen', 'Uebeschi', 'Inkwil', 'Schwanden bei Brienz', 'Brienz (BE)', 'Krauchthal', 'Oberbalm', 'Port', 'Lenk', 'Matten bei Interlaken', 'Wilderswil', 'Sigriswil', 'Arni (BE)', 'Jegenstorf', 'Wald (BE)', 'Lauperswil', 'Niederönz', 'Melchnau', 'Ursenbach', 'Krattigen', 'Stettlen', 'Oberdiessbach', 'Fahrni', 'Moosseedorf', 'Meikirch', 'Ins', 'Zweisimmen', 'Münchenwiler', 'Roggwil (BE)', 'St. Stephan', 'Affoltern im Emmental', 'Diemtigen', 'Eriswil', 'Toffen', 'Lengnau (BE)', 'Oberbipp', 'Rohrbach', 'Pieterlen', 'Linden', 'Neuenegg', 'Safnern', 'Wiedlisbach', 'Kehrsatz', 'Nods', 'Mattstetten', 'Ipsach', 'Attiswil', 'Sutz-Lattrigen', 'Lotzwil', 'Bargen (BE)', 'Mühleberg', 'Gampelen', 'Zuzwil (BE)', 'Reutigen', 'Kirchdorf (BE)', 'Heiligenschwendi', 'Blumenstein', 'Müntschemier', 'Allmendingen', 'Leissigen', 'Täuffelen', 'La Ferrière', 'Wichtrach', 'Dürrenroth', 'Stocken-Höfen', 'Wengi', 'Seeberg', 'Finsterhennen', 'Beatenberg', 'Forst-Längenbühl', 'Orvin', 'Plateau de Diesse', 'Heimenhausen', 'Rüdtligen-Alchenflüh', 'Kaufdorf', 'Thörigen', 'Meinisberg', 'Heimiswil', 'Aarwangen', 'Lyssach', 'Jens', 'Lüscherz', 'Ersigen', 'Wiler bei Utzenstorf', 'Laupen', 'Hindelbank', 'Cortébert', 'Ligerz', 'Mörigen', 'Schwadernau', 'Villeret', 'Aefligen', 'Zäziwil', 'Trub', 'Alchenstorf', 'Gurzelen', 'Sonvilier', 'Court', 'Erlach', 'Därstetten', 'Schwarzhäusern', 'Diessbach bei Büren', 'Gsteig', 'Schangnau', 'Röthenbach im Emmental', 'Siselen', 'Bäriswil', 'Buchholterberg', 'Renan (BE)', 'Walliswil bei Wangen', 'Amsoldingen', 'Bleienbach', 'Oberwil bei Büren', 'Oberwil im Simmental', 'Rüti bei Büren', 'Habkern', 'Vinelz', 'Herbligen', 'Oppligen', 'Rütschelen', 'Homberg']\n"
     ]
    }
   ],
   "source": [
    "gemeinden = data['Wohngemeinde'].unique()\n",
    "gemeinden = [g for g in gemeinden if type(g) is str]"
   ]
  },
  {
   "cell_type": "code",
   "execution_count": 36,
   "id": "ecfee407",
   "metadata": {},
   "outputs": [],
   "source": [
    "geimpfte_thuner = data[data['Wohngemeinde']=='Thun'].shape[0]"
   ]
  },
  {
   "cell_type": "code",
   "execution_count": 87,
   "id": "696944be",
   "metadata": {},
   "outputs": [],
   "source": [
    "geimpfte = data[data['Vollstaendiger_Impfschutz'] == 'WAHR']"
   ]
  },
  {
   "cell_type": "code",
   "execution_count": 91,
   "id": "4b84785a",
   "metadata": {},
   "outputs": [
    {
     "data": {
      "text/plain": [
       "721677"
      ]
     },
     "execution_count": 91,
     "metadata": {},
     "output_type": "execute_result"
    }
   ],
   "source": [
    "geimpfte.shape[0]"
   ]
  },
  {
   "cell_type": "code",
   "execution_count": 90,
   "id": "c97ea371",
   "metadata": {
    "scrolled": true
   },
   "outputs": [
    {
     "data": {
      "text/plain": [
       "39553"
      ]
     },
     "execution_count": 90,
     "metadata": {},
     "output_type": "execute_result"
    }
   ],
   "source": [
    "geimpfte[geimpfte['Zweitimpfung Gemeinde'] != geimpfte['Erstimpfung Gemeinde']].shape[0]"
   ]
  },
  {
   "cell_type": "code",
   "execution_count": 99,
   "id": "8bc30002",
   "metadata": {},
   "outputs": [],
   "source": [
    "anzahl_heimgeimpfte = geimpfte[geimpfte['Wohngemeinde'] == geimpfte['Erstimpfung Gemeinde']].shape[0]"
   ]
  },
  {
   "cell_type": "code",
   "execution_count": 100,
   "id": "2997cbd7",
   "metadata": {},
   "outputs": [],
   "source": [
    "anzahl_geimpfte = geimpfte.shape[0]"
   ]
  },
  {
   "cell_type": "code",
   "execution_count": 101,
   "id": "a814192c",
   "metadata": {},
   "outputs": [
    {
     "name": "stdout",
     "output_type": "stream",
     "text": [
      "total score:  0.252872129775509\n"
     ]
    }
   ],
   "source": [
    "print('total score: ', anzahl_heimgeimpfte / anzahl_geimpfte)"
   ]
  },
  {
   "cell_type": "code",
   "execution_count": 95,
   "id": "c972463d",
   "metadata": {
    "collapsed": true
   },
   "outputs": [
    {
     "name": "stdout",
     "output_type": "stream",
     "text": [
      "{'Aarberg': 0.30842558425584254, 'Aarwangen': 0.16877348821318755, 'Adelboden': 0.7329047340736411, 'Aefligen': 0.0, 'Aegerten': 0.0007496251874062968, 'Aeschi bei Spiez': 0.000819672131147541, 'Affoltern im Emmental': 0.0, 'Alchenstorf': 0.0, 'Allmendingen': 0.0, 'Amsoldingen': 0.0, 'Arch': 0.017456359102244388, 'Arni (BE)': 0.0, 'Attiswil': 0.0149812734082397, 'Bannwil': 0.0, 'Bargen (BE)': 0.0, 'Beatenberg': 0.24280575539568344, 'Bellmund': 0.0, 'Belp': 0.07212651067112368, 'Bern': 0.8191313908741067, 'Bettenhausen': 0.0, 'Biel/Bienne': 0.1913278870788418, 'Biglen': 0.05155482815057283, 'Bleienbach': 0.0, 'Blumenstein': 0.19047619047619047, 'Bolligen': 0.0, 'Boltigen': 0.32006920415224915, 'Bowil': 0.0, 'Bremgarten bei Bern': 0.032268473701193935, 'Brienz (BE)': 0.11732124874118832, 'Brügg': 0.08228571428571428, 'Brüttelen': 0.12826603325415678, 'Buchholterberg': 0.17341772151898735, 'Burgdorf': 0.5559000708717222, 'Burgistein': 0.0, 'Bäriswil': 0.0, 'Bätterkinden': 0.0, 'Bönigen': 0.0, 'Büetigen': 0.0, 'Büren an der Aare': 0.17381489841986456, 'Corgémont': 0.36162005785920925, 'Cortébert': 0.03523035230352303, 'Court': 0.0, 'Courtelary': 0.1039119804400978, 'Diemtigen': 0.0, 'Diessbach bei Büren': 0.0, 'Dotzigen': 0.07061266874350987, 'Därstetten': 0.0, 'Dürrenroth': 0.13298791018998274, 'Eggiwil': 0.11469838572642312, 'Eriswil': 0.021374045801526718, 'Erlach': 0.0, 'Erlenbach im Simmental': 0.16852540272614622, 'Ersigen': 0.0, 'Evilard': 0.028794241151769647, 'Fahrni': 0.0, 'Ferenbalm': 0.0, 'Finsterhennen': 0.0, 'Forst-Längenbühl': 0.0, 'Fraubrunnen': 0.03615177771138333, 'Frauenkappelen': 0.06986899563318777, 'Frutigen': 0.2591708917387414, 'Gals': 0.0, 'Gampelen': 0.14664310954063603, 'Gerzensee': 0.0, 'Gondiswil': 0.0, 'Grindelwald': 0.15216477511559479, 'Grossaffoltern': 0.0, 'Grosshöchstetten': 0.05198996055934026, 'Gsteig': 0.0, 'Guggisberg': 0.0, 'Gurzelen': 0.0, 'Habkern': 0.0, 'Hasle bei Burgdorf': 0.10279329608938548, 'Hasliberg': 0.012658227848101266, 'Heiligenschwendi': 0.08354430379746836, 'Heimberg': 0.06453291699193339, 'Heimenhausen': 0.0013404825737265416, 'Heimiswil': 0.03919491525423729, 'Herbligen': 0.0, 'Herzogenbuchsee': 0.12684808227983715, 'Hilterfingen': 0.057383040935672515, 'Hindelbank': 0.08319280494659921, 'Hofstetten bei Brienz': 0.0, 'Homberg': 0.0, 'Huttwil': 0.2325088339222615, 'Inkwil': 0.0, 'Innertkirchen': 0.0, 'Ins': 0.052930883639545054, 'Interlaken': 0.6089399744572158, 'Ipsach': 0.0, 'Ittigen': 0.05991957104557641, 'Jegenstorf': 0.07416502946954813, 'Jens': 0.0, 'Kallnach': 0.03907380607814761, 'Kandergrund': 0.0, 'Kandersteg': 0.5774499473129611, 'Kappelen': 0.0, 'Kaufdorf': 0.0, 'Kehrsatz': 0.005259467040673212, 'Kernenried': 0.0, 'Kiesen': 0.0, 'Kirchberg (BE)': 0.03163138231631382, 'Kirchdorf (BE)': 0.0, 'Kirchlindach': 0.0012831479897348161, 'Kleine Gemeinde': 0.0, 'Konolfingen': 0.1226775956284153, 'Koppigen': 0.08026315789473684, 'Krattigen': 0.21587301587301588, 'Krauchthal': 0.0, 'Köniz': 0.025683570119948842, 'La Ferrière': 0.0, 'La Neuveville': 0.30061037639877924, 'Landiswil': 0.0, 'Langenthal': 0.8709039841880787, 'Langnau im Emmental': 0.16630883567299753, 'Lauenen': 0.0, 'Laupen': 0.1340018231540565, 'Lauperswil': 0.0, 'Lauterbrunnen': 0.4617467840216655, 'Leissigen': 0.1717877094972067, 'Lengnau (BE)': 0.13076923076923078, 'Lenk': 0.30551523947750364, 'Leuzigen': 0.0, 'Ligerz': 0.0, 'Linden': 0.0, 'Lotzwil': 0.014687882496940025, 'Lyss': 0.31485849056603776, 'Lyssach': 0.0, 'Lüscherz': 0.0, 'Lützelflüh': 0.0660377358490566, 'Madiswil': 0.0, 'Matten bei Interlaken': 0.0, 'Mattstetten': 0.0, 'Meikirch': 0.04845548152634767, 'Meinisberg': 0.0, 'Meiringen': 0.19151630262741373, 'Melchnau': 0.153088630259624, 'Mirchel': 0.0, 'Moosseedorf': 0.05111940298507463, 'Moutier': 0.30390334572490707, 'Muri bei Bern': 0.08453821186190617, 'Mörigen': 0.0, 'Mühleberg': 0.06344253770150807, 'Münchenbuchsee': 0.0637233259749816, 'Münchenwiler': 0.0, 'Münsingen': 0.10848060464599311, 'Müntschemier': 0.0, 'Neuenegg': 0.13480600396488246, 'Nidau': 0.05917986952469711, 'Niederbipp': 0.05555555555555555, 'Niederhünigen': 0.0, 'Niedermuhlern': 0.0, 'Niederönz': 0.046052631578947366, 'Nods': 0.0, 'Oberbalm': 0.0, 'Oberbipp': 0.05, 'Oberburg': 0.10282485875706214, 'Oberdiessbach': 0.14980114891736632, 'Oberhofen am Thunersee': 0.044126416219439475, 'Oberthal': 0.04922279792746114, 'Oberwil bei Büren': 0.0, 'Oberwil im Simmental': 0.0, 'Ochlenberg': 0.0, 'Oppligen': 0.0, 'Orpund': 0.05745257452574526, 'Orvin': 0.013888888888888888, 'Ostermundigen': 0.060989247311827956, 'Pieterlen': 0.057794057794057795, 'Plateau de Diesse': 0.0, 'Port': 0.039452495974235106, 'Péry-La Heutte': 0.05052430886558627, 'Radelfingen': 0.0, 'Rapperswil (BE)': 0.0, 'Reconvilier': 0.023622047244094488, 'Reichenbach im Kandertal': 0.21739130434782608, 'Renan (BE)': 0.09156626506024096, 'Reutigen': 0.0, 'Riggisberg': 0.417980151780502, 'Ringgenberg (BE)': 0.1078600114744693, 'Roggwil (BE)': 0.11396131202691337, 'Rohrbach': 0.0, 'Rubigen': 0.07756232686980609, 'Röthenbach im Emmental': 0.0, 'Rüderswil': 0.04515173945225759, 'Rüdtligen-Alchenflüh': 0.05694915254237288, 'Rüeggisberg': 0.0, 'Rüegsau': 0.0004911591355599214, 'Rüschegg': 0.0, 'Rüti bei Büren': 0.0, 'Rütschelen': 0.0, 'Saanen': 0.1801823416506718, 'Safnern': 0.0, 'Saicourt': 0.0, 'Saint-Imier': 0.24371667936024372, 'Sauge': 0.0, 'Schangnau': 0.0, 'Schattenhalb': 0.09014084507042254, 'Schwadernau': 0.0, 'Schwanden bei Brienz': 0.0, 'Schwarzenburg': 0.0309878844361603, 'Schwarzhäusern': 0.0, 'Schüpfen': 0.05923202614379085, 'Seeberg': 0.004454342984409799, 'Seedorf (BE)': 0.14763869784502523, 'Seftigen': 0.09267563527653214, 'Signau': 0.0643312101910828, 'Sigriswil': 0.05158865732832251, 'Siselen': 0.024128686327077747, 'Sonceboz-Sombeval': 0.0, 'Sonvilier': 0.0, 'Spiez': 0.17677885175264935, 'St. Stephan': 0.0035026269702276708, 'Steffisburg': 0.09489740820734341, 'Stettlen': 0.0362154821186057, 'Stocken-Höfen': 0.0, 'Studen (BE)': 0.13948919449901767, 'Sumiswald': 0.4051094890510949, 'Sutz-Lattrigen': 0.009584664536741214, 'Tavannes': 0.6103637269556552, 'Thierachern': 0.08704735376044569, 'Thun': 0.753158134163838, 'Thunstetten': 0.10701841712294674, 'Thurnen': 0.0, 'Thörigen': 0.0, 'Toffen': 0.0, 'Trachselwald': 0.001976284584980237, 'Tramelan': 0.25172288719622776, 'Trub': 0.0, 'Trubschachen': 0.0, 'Twann-Tüscherz': 0.0, 'Täuffelen': 0.04433249370277078, 'Uebeschi': 0.0, 'Uetendorf': 0.14907161803713528, 'Unterlangenegg': 0.019230769230769232, 'Unterseen': 0.1722333000997009, 'Ursenbach': 0.0, 'Urtenen-Schönbühl': 0.11436950146627566, 'Uttigen': 0.0586890243902439, 'Utzenstorf': 0.04843696324287187, 'Valbirse': 0.11060480530240265, 'Vechigen': 0.06563998990154002, 'Villeret': 0.0, 'Vinelz': 0.0, 'Wald (BE)': 0.13997627520759193, 'Walkringen': 0.0162748643761302, 'Walliswil bei Wangen': 0.0, 'Walperswil': 0.0, 'Walterswil (BE)': 0.0, 'Wangen an der Aare': 0.0007668711656441718, 'Wattenwil': 0.04742857142857143, 'Wengi': 0.0, 'Wichtrach': 0.04099509460406447, 'Wiedlisbach': 0.1239067055393586, 'Wilderswil': 0.0, 'Wiler bei Utzenstorf': 0.0, 'Wimmis': 0.11689189189189189, 'Wohlen bei Bern': 0.09852963468243141, 'Worb': 0.12659195109526236, 'Worben': 0.1092190252495596, 'Wynau': 0.0, 'Wynigen': 0.15602263540824576, 'Wyssachen': 0.0, 'Zollikofen': 0.09466461279932782, 'Zuzwil (BE)': 0.0, 'Zweisimmen': 0.3050397877984085, 'Zäziwil': 0.018924302788844622}\n"
     ]
    }
   ],
   "source": [
    "_eigenimpfscore_map = {}\n",
    "for g in sorted(gemeinden):\n",
    "    einw = geimpfte[geimpfte['Wohngemeinde']==g]\n",
    "    heim_impfungen = einw[g == einw['Erstimpfung Gemeinde']].shape[0]\n",
    "    anz_einw = einw.shape[0]\n",
    "    score = heim_impfungen / anz_einw\n",
    "    _eigenimpfscore_map[g] = score"
   ]
  },
  {
   "cell_type": "code",
   "execution_count": 110,
   "id": "5d576c74",
   "metadata": {},
   "outputs": [
    {
     "name": "stdout",
     "output_type": "stream",
     "text": [
      "{'Aarberg': False, 'Aarwangen': False, 'Adelboden': False, 'Aefligen': False, 'Aegerten': False, 'Aeschi bei Spiez': False, 'Affoltern im Emmental': False, 'Alchenstorf': False, 'Allmendingen': False, 'Amsoldingen': False, 'Arch': False, 'Arni (BE)': False, 'Attiswil': False, 'Bannwil': False, 'Bargen (BE)': False, 'Beatenberg': False, 'Bellmund': False, 'Belp': False, 'Bern': True, 'Bettenhausen': False, 'Biel/Bienne': True, 'Biglen': False, 'Bleienbach': False, 'Blumenstein': False, 'Bolligen': False, 'Boltigen': False, 'Bowil': False, 'Bremgarten bei Bern': False, 'Brienz (BE)': False, 'Brügg': False, 'Brüttelen': False, 'Buchholterberg': False, 'Burgdorf': True, 'Burgistein': False, 'Bäriswil': False, 'Bätterkinden': False, 'Bönigen': False, 'Büetigen': False, 'Büren an der Aare': False, 'Corgémont': False, 'Cortébert': False, 'Court': False, 'Courtelary': False, 'Diemtigen': False, 'Diessbach bei Büren': False, 'Dotzigen': False, 'Därstetten': False, 'Dürrenroth': False, 'Eggiwil': False, 'Eriswil': False, 'Erlach': False, 'Erlenbach im Simmental': False, 'Ersigen': False, 'Evilard': False, 'Fahrni': False, 'Ferenbalm': False, 'Finsterhennen': False, 'Forst-Längenbühl': False, 'Fraubrunnen': False, 'Frauenkappelen': False, 'Frutigen': False, 'Gals': False, 'Gampelen': False, 'Gerzensee': False, 'Gondiswil': False, 'Grindelwald': False, 'Grossaffoltern': False, 'Grosshöchstetten': False, 'Gsteig': False, 'Guggisberg': False, 'Gurzelen': False, 'Habkern': False, 'Hasle bei Burgdorf': False, 'Hasliberg': False, 'Heiligenschwendi': False, 'Heimberg': False, 'Heimenhausen': False, 'Heimiswil': False, 'Herbligen': False, 'Herzogenbuchsee': False, 'Hilterfingen': False, 'Hindelbank': False, 'Hofstetten bei Brienz': False, 'Homberg': False, 'Huttwil': False, 'Inkwil': False, 'Innertkirchen': False, 'Ins': False, 'Interlaken': True, 'Ipsach': False, 'Ittigen': False, 'Jegenstorf': False, 'Jens': False, 'Kallnach': False, 'Kandergrund': False, 'Kandersteg': False, 'Kappelen': False, 'Kaufdorf': False, 'Kehrsatz': False, 'Kernenried': False, 'Kiesen': False, 'Kirchberg (BE)': False, 'Kirchdorf (BE)': False, 'Kirchlindach': False, 'Kleine Gemeinde': False, 'Konolfingen': False, 'Koppigen': False, 'Krattigen': False, 'Krauchthal': False, 'Köniz': False, 'La Ferrière': False, 'La Neuveville': False, 'Landiswil': False, 'Langenthal': True, 'Langnau im Emmental': True, 'Lauenen': False, 'Laupen': False, 'Lauperswil': False, 'Lauterbrunnen': False, 'Leissigen': False, 'Lengnau (BE)': False, 'Lenk': False, 'Leuzigen': False, 'Ligerz': False, 'Linden': False, 'Lotzwil': False, 'Lyss': False, 'Lyssach': False, 'Lüscherz': False, 'Lützelflüh': False, 'Madiswil': False, 'Matten bei Interlaken': False, 'Mattstetten': False, 'Meikirch': False, 'Meinisberg': False, 'Meiringen': False, 'Melchnau': False, 'Mirchel': False, 'Moosseedorf': False, 'Moutier': True, 'Muri bei Bern': False, 'Mörigen': False, 'Mühleberg': False, 'Münchenbuchsee': False, 'Münchenwiler': False, 'Münsingen': False, 'Müntschemier': False, 'Neuenegg': False, 'Nidau': False, 'Niederbipp': False, 'Niederhünigen': False, 'Niedermuhlern': False, 'Niederönz': False, 'Nods': False, 'Oberbalm': False, 'Oberbipp': False, 'Oberburg': False, 'Oberdiessbach': False, 'Oberhofen am Thunersee': False, 'Oberthal': False, 'Oberwil bei Büren': False, 'Oberwil im Simmental': False, 'Ochlenberg': False, 'Oppligen': False, 'Orpund': False, 'Orvin': False, 'Ostermundigen': False, 'Pieterlen': False, 'Plateau de Diesse': False, 'Port': False, 'Péry-La Heutte': False, 'Radelfingen': False, 'Rapperswil (BE)': False, 'Reconvilier': False, 'Reichenbach im Kandertal': False, 'Renan (BE)': False, 'Reutigen': False, 'Riggisberg': False, 'Ringgenberg (BE)': False, 'Roggwil (BE)': False, 'Rohrbach': False, 'Rubigen': False, 'Röthenbach im Emmental': False, 'Rüderswil': False, 'Rüdtligen-Alchenflüh': False, 'Rüeggisberg': False, 'Rüegsau': False, 'Rüschegg': False, 'Rüti bei Büren': False, 'Rütschelen': False, 'Saanen': False, 'Safnern': False, 'Saicourt': False, 'Saint-Imier': True, 'Sauge': False, 'Schangnau': False, 'Schattenhalb': False, 'Schwadernau': False, 'Schwanden bei Brienz': False, 'Schwarzenburg': False, 'Schwarzhäusern': False, 'Schüpfen': False, 'Seeberg': False, 'Seedorf (BE)': False, 'Seftigen': False, 'Signau': False, 'Sigriswil': False, 'Siselen': False, 'Sonceboz-Sombeval': False, 'Sonvilier': False, 'Spiez': False, 'St. Stephan': False, 'Steffisburg': False, 'Stettlen': False, 'Stocken-Höfen': False, 'Studen (BE)': False, 'Sumiswald': False, 'Sutz-Lattrigen': False, 'Tavannes': True, 'Thierachern': False, 'Thun': True, 'Thunstetten': False, 'Thurnen': False, 'Thörigen': False, 'Toffen': False, 'Trachselwald': False, 'Tramelan': False, 'Trub': False, 'Trubschachen': False, 'Twann-Tüscherz': False, 'Täuffelen': False, 'Uebeschi': False, 'Uetendorf': False, 'Unterlangenegg': False, 'Unterseen': True, 'Ursenbach': False, 'Urtenen-Schönbühl': False, 'Uttigen': False, 'Utzenstorf': False, 'Valbirse': False, 'Vechigen': False, 'Villeret': False, 'Vinelz': False, 'Wald (BE)': False, 'Walkringen': False, 'Walliswil bei Wangen': False, 'Walperswil': False, 'Walterswil (BE)': False, 'Wangen an der Aare': False, 'Wattenwil': False, 'Wengi': False, 'Wichtrach': False, 'Wiedlisbach': False, 'Wilderswil': False, 'Wiler bei Utzenstorf': False, 'Wimmis': False, 'Wohlen bei Bern': False, 'Worb': False, 'Worben': False, 'Wynau': False, 'Wynigen': False, 'Wyssachen': False, 'Zollikofen': False, 'Zuzwil (BE)': False, 'Zweisimmen': False, 'Zäziwil': False}\n"
     ]
    }
   ],
   "source": [
    "_hatImpzentrum_map = {}\n",
    "for g in sorted(gemeinden):\n",
    "    impfz = geimpfte[(geimpfte['Erstimpfung ODI Typ'] == 'Impfzentrum') & (geimpfte['Erstimpfung Gemeinde'] == g)]\n",
    "    if impfz.shape[0] > 0:\n",
    "        _hatImpzentrum_map[g] = True\n",
    "    else:\n",
    "        _hatImpzentrum_map[g] = False\n",
    "print(_hatImpzentrum_map)"
   ]
  },
  {
   "cell_type": "code",
   "execution_count": 111,
   "id": "bb93442f",
   "metadata": {
    "scrolled": false
   },
   "outputs": [],
   "source": [
    "df = pd.DataFrame({'score': _eigenimpfscore_map, 'hatImpfzentrum': _hatImpzentrum_map})"
   ]
  },
  {
   "cell_type": "code",
   "execution_count": 112,
   "id": "df08f271",
   "metadata": {
    "scrolled": false
   },
   "outputs": [
    {
     "data": {
      "text/html": [
       "<div>\n",
       "<style scoped>\n",
       "    .dataframe tbody tr th:only-of-type {\n",
       "        vertical-align: middle;\n",
       "    }\n",
       "\n",
       "    .dataframe tbody tr th {\n",
       "        vertical-align: top;\n",
       "    }\n",
       "\n",
       "    .dataframe thead th {\n",
       "        text-align: right;\n",
       "    }\n",
       "</style>\n",
       "<table border=\"1\" class=\"dataframe\">\n",
       "  <thead>\n",
       "    <tr style=\"text-align: right;\">\n",
       "      <th></th>\n",
       "      <th>score</th>\n",
       "      <th>hatImpfzentrum</th>\n",
       "    </tr>\n",
       "  </thead>\n",
       "  <tbody>\n",
       "    <tr>\n",
       "      <th>Mattstetten</th>\n",
       "      <td>0.000000</td>\n",
       "      <td>False</td>\n",
       "    </tr>\n",
       "    <tr>\n",
       "      <th>Rapperswil (BE)</th>\n",
       "      <td>0.000000</td>\n",
       "      <td>False</td>\n",
       "    </tr>\n",
       "    <tr>\n",
       "      <th>Jens</th>\n",
       "      <td>0.000000</td>\n",
       "      <td>False</td>\n",
       "    </tr>\n",
       "    <tr>\n",
       "      <th>Reutigen</th>\n",
       "      <td>0.000000</td>\n",
       "      <td>False</td>\n",
       "    </tr>\n",
       "    <tr>\n",
       "      <th>Rohrbach</th>\n",
       "      <td>0.000000</td>\n",
       "      <td>False</td>\n",
       "    </tr>\n",
       "    <tr>\n",
       "      <th>...</th>\n",
       "      <td>...</td>\n",
       "      <td>...</td>\n",
       "    </tr>\n",
       "    <tr>\n",
       "      <th>Tavannes</th>\n",
       "      <td>0.610364</td>\n",
       "      <td>True</td>\n",
       "    </tr>\n",
       "    <tr>\n",
       "      <th>Adelboden</th>\n",
       "      <td>0.732905</td>\n",
       "      <td>False</td>\n",
       "    </tr>\n",
       "    <tr>\n",
       "      <th>Thun</th>\n",
       "      <td>0.753158</td>\n",
       "      <td>True</td>\n",
       "    </tr>\n",
       "    <tr>\n",
       "      <th>Bern</th>\n",
       "      <td>0.819131</td>\n",
       "      <td>True</td>\n",
       "    </tr>\n",
       "    <tr>\n",
       "      <th>Langenthal</th>\n",
       "      <td>0.870904</td>\n",
       "      <td>True</td>\n",
       "    </tr>\n",
       "  </tbody>\n",
       "</table>\n",
       "<p>266 rows × 2 columns</p>\n",
       "</div>"
      ],
      "text/plain": [
       "                    score  hatImpfzentrum\n",
       "Mattstetten      0.000000           False\n",
       "Rapperswil (BE)  0.000000           False\n",
       "Jens             0.000000           False\n",
       "Reutigen         0.000000           False\n",
       "Rohrbach         0.000000           False\n",
       "...                   ...             ...\n",
       "Tavannes         0.610364            True\n",
       "Adelboden        0.732905           False\n",
       "Thun             0.753158            True\n",
       "Bern             0.819131            True\n",
       "Langenthal       0.870904            True\n",
       "\n",
       "[266 rows x 2 columns]"
      ]
     },
     "execution_count": 112,
     "metadata": {},
     "output_type": "execute_result"
    }
   ],
   "source": [
    "df.sort_values('score')"
   ]
  },
  {
   "cell_type": "code",
   "execution_count": 113,
   "id": "b36d693e",
   "metadata": {},
   "outputs": [],
   "source": [
    "df.to_csv('Data_Public/eigenimpfscore.csv')"
   ]
  },
  {
   "cell_type": "code",
   "execution_count": null,
   "id": "8e4cd17c",
   "metadata": {},
   "outputs": [],
   "source": []
  }
 ],
 "metadata": {
  "kernelspec": {
   "display_name": "Python 3",
   "language": "python",
   "name": "python3"
  },
  "language_info": {
   "codemirror_mode": {
    "name": "ipython",
    "version": 3
   },
   "file_extension": ".py",
   "mimetype": "text/x-python",
   "name": "python",
   "nbconvert_exporter": "python",
   "pygments_lexer": "ipython3",
   "version": "3.9.7"
  }
 },
 "nbformat": 4,
 "nbformat_minor": 5
}
