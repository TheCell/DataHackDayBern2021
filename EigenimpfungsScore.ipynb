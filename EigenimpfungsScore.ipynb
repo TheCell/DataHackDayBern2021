{
 "cells": [
  {
   "cell_type": "code",
   "execution_count": 1,
   "id": "abc7e476",
   "metadata": {},
   "outputs": [],
   "source": [
    "import pandas as pd\n",
    "import numpy as np\n",
    "from matplotlib import pyplot as plt\n",
    "%matplotlib inline"
   ]
  },
  {
   "cell_type": "code",
   "execution_count": 2,
   "id": "0df78ea3",
   "metadata": {},
   "outputs": [],
   "source": [
    "data = pd.read_csv('Data_Private/prepared/cleaned_VacMe_Gemeinden_ueber_500.csv')"
   ]
  },
  {
   "cell_type": "code",
   "execution_count": 3,
   "id": "146da26a",
   "metadata": {},
   "outputs": [
    {
     "data": {
      "text/html": [
       "<div>\n",
       "<style scoped>\n",
       "    .dataframe tbody tr th:only-of-type {\n",
       "        vertical-align: middle;\n",
       "    }\n",
       "\n",
       "    .dataframe tbody tr th {\n",
       "        vertical-align: top;\n",
       "    }\n",
       "\n",
       "    .dataframe thead th {\n",
       "        text-align: right;\n",
       "    }\n",
       "</style>\n",
       "<table border=\"1\" class=\"dataframe\">\n",
       "  <thead>\n",
       "    <tr style=\"text-align: right;\">\n",
       "      <th></th>\n",
       "      <th>Registration</th>\n",
       "      <th>Geschlecht</th>\n",
       "      <th>Vollstaendiger_Impfschutz</th>\n",
       "      <th>Imfgruppe</th>\n",
       "      <th>Wohngemeinde</th>\n",
       "      <th>Erstimpfung ODI Typ</th>\n",
       "      <th>Erstimpfung Gemeinde</th>\n",
       "      <th>Erstimpfung</th>\n",
       "      <th>Zweitimpfung ODI Typ</th>\n",
       "      <th>Zweitimpfung Gemeinde</th>\n",
       "      <th>Zweitimpfung</th>\n",
       "    </tr>\n",
       "  </thead>\n",
       "  <tbody>\n",
       "    <tr>\n",
       "      <th>0</th>\n",
       "      <td>2021-02-28</td>\n",
       "      <td>MAENNLICH</td>\n",
       "      <td>WAHR</td>\n",
       "      <td>N</td>\n",
       "      <td>Thun</td>\n",
       "      <td>Impfzentrum</td>\n",
       "      <td>Thun</td>\n",
       "      <td>02.06.2021</td>\n",
       "      <td>Impfzentrum</td>\n",
       "      <td>Thun</td>\n",
       "      <td>30.06.2021</td>\n",
       "    </tr>\n",
       "    <tr>\n",
       "      <th>1</th>\n",
       "      <td>2021-10-02</td>\n",
       "      <td>WEIBLICH</td>\n",
       "      <td>WAHR</td>\n",
       "      <td>G</td>\n",
       "      <td>Thun</td>\n",
       "      <td>Impfzentrum</td>\n",
       "      <td>Thun</td>\n",
       "      <td>03.07.2021</td>\n",
       "      <td>Impfzentrum</td>\n",
       "      <td>Thun</td>\n",
       "      <td>02.08.2021</td>\n",
       "    </tr>\n",
       "    <tr>\n",
       "      <th>2</th>\n",
       "      <td>2021-07-05</td>\n",
       "      <td>WEIBLICH</td>\n",
       "      <td>FALSCH</td>\n",
       "      <td>F</td>\n",
       "      <td>Thun</td>\n",
       "      <td>NaN</td>\n",
       "      <td>NaN</td>\n",
       "      <td>NaN</td>\n",
       "      <td>NaN</td>\n",
       "      <td>NaN</td>\n",
       "      <td>NaN</td>\n",
       "    </tr>\n",
       "    <tr>\n",
       "      <th>3</th>\n",
       "      <td>2021-10-03</td>\n",
       "      <td>MAENNLICH</td>\n",
       "      <td>WAHR</td>\n",
       "      <td>N</td>\n",
       "      <td>Thun</td>\n",
       "      <td>Impfzentrum</td>\n",
       "      <td>Thun</td>\n",
       "      <td>03.08.2021</td>\n",
       "      <td>Impfzentrum</td>\n",
       "      <td>Thun</td>\n",
       "      <td>31.08.2021</td>\n",
       "    </tr>\n",
       "    <tr>\n",
       "      <th>4</th>\n",
       "      <td>2021-01-15</td>\n",
       "      <td>WEIBLICH</td>\n",
       "      <td>WAHR</td>\n",
       "      <td>A</td>\n",
       "      <td>Thun</td>\n",
       "      <td>Impfzentrum</td>\n",
       "      <td>Bern</td>\n",
       "      <td>11.02.2021</td>\n",
       "      <td>Impfzentrum</td>\n",
       "      <td>Bern</td>\n",
       "      <td>11.03.2021</td>\n",
       "    </tr>\n",
       "  </tbody>\n",
       "</table>\n",
       "</div>"
      ],
      "text/plain": [
       "  Registration Geschlecht Vollstaendiger_Impfschutz Imfgruppe Wohngemeinde  \\\n",
       "0   2021-02-28  MAENNLICH                      WAHR         N         Thun   \n",
       "1   2021-10-02   WEIBLICH                      WAHR         G         Thun   \n",
       "2   2021-07-05   WEIBLICH                    FALSCH         F         Thun   \n",
       "3   2021-10-03  MAENNLICH                      WAHR         N         Thun   \n",
       "4   2021-01-15   WEIBLICH                      WAHR         A         Thun   \n",
       "\n",
       "  Erstimpfung ODI Typ Erstimpfung Gemeinde Erstimpfung Zweitimpfung ODI Typ  \\\n",
       "0         Impfzentrum                 Thun  02.06.2021          Impfzentrum   \n",
       "1         Impfzentrum                 Thun  03.07.2021          Impfzentrum   \n",
       "2                 NaN                  NaN         NaN                  NaN   \n",
       "3         Impfzentrum                 Thun  03.08.2021          Impfzentrum   \n",
       "4         Impfzentrum                 Bern  11.02.2021          Impfzentrum   \n",
       "\n",
       "  Zweitimpfung Gemeinde Zweitimpfung  \n",
       "0                  Thun   30.06.2021  \n",
       "1                  Thun   02.08.2021  \n",
       "2                   NaN          NaN  \n",
       "3                  Thun   31.08.2021  \n",
       "4                  Bern   11.03.2021  "
      ]
     },
     "execution_count": 3,
     "metadata": {},
     "output_type": "execute_result"
    }
   ],
   "source": [
    "data.head()"
   ]
  },
  {
   "cell_type": "code",
   "execution_count": 4,
   "id": "2a063fdc",
   "metadata": {},
   "outputs": [
    {
     "data": {
      "text/plain": [
       "array(['Impfzentrum', nan, 'Spital', 'Arztpraxis', 'Mobiles Impfteam',\n",
       "       'Apotheke', 'Alters- und Pflegeheim', 'Impfpraxis', 'Betriebe',\n",
       "       'Andere', 'Test'], dtype=object)"
      ]
     },
     "execution_count": 4,
     "metadata": {},
     "output_type": "execute_result"
    }
   ],
   "source": [
    "data['Erstimpfung ODI Typ'].unique()"
   ]
  },
  {
   "cell_type": "code",
   "execution_count": 5,
   "id": "86ba99a2",
   "metadata": {},
   "outputs": [],
   "source": [
    "gemeinden = data['Wohngemeinde'].unique()\n",
    "gemeinden = [g for g in gemeinden if type(g) is str]"
   ]
  },
  {
   "cell_type": "code",
   "execution_count": 6,
   "id": "90026158",
   "metadata": {},
   "outputs": [],
   "source": [
    "geimpfte_thuner = data[data['Wohngemeinde']=='Thun'].shape[0]"
   ]
  },
  {
   "cell_type": "code",
   "execution_count": 7,
   "id": "5d647e08",
   "metadata": {},
   "outputs": [],
   "source": [
    "geimpfte = data[data['Vollstaendiger_Impfschutz'] == 'WAHR']"
   ]
  },
  {
   "cell_type": "code",
   "execution_count": 8,
   "id": "3e9c922c",
   "metadata": {},
   "outputs": [
    {
     "data": {
      "text/plain": [
       "721677"
      ]
     },
     "execution_count": 8,
     "metadata": {},
     "output_type": "execute_result"
    }
   ],
   "source": [
    "geimpfte.shape[0]"
   ]
  },
  {
   "cell_type": "code",
   "execution_count": 9,
   "id": "0ddc3e3d",
   "metadata": {
    "scrolled": true
   },
   "outputs": [
    {
     "data": {
      "text/plain": [
       "39553"
      ]
     },
     "execution_count": 9,
     "metadata": {},
     "output_type": "execute_result"
    }
   ],
   "source": [
    "geimpfte[geimpfte['Zweitimpfung Gemeinde'] != geimpfte['Erstimpfung Gemeinde']].shape[0]"
   ]
  },
  {
   "cell_type": "code",
   "execution_count": 10,
   "id": "e2785e84",
   "metadata": {},
   "outputs": [],
   "source": [
    "anzahl_heimgeimpfte = geimpfte[geimpfte['Wohngemeinde'] == geimpfte['Erstimpfung Gemeinde']].shape[0]"
   ]
  },
  {
   "cell_type": "code",
   "execution_count": 11,
   "id": "e622e04d",
   "metadata": {},
   "outputs": [],
   "source": [
    "anzahl_geimpfte = geimpfte.shape[0]"
   ]
  },
  {
   "cell_type": "code",
   "execution_count": 12,
   "id": "b1c6b2ea",
   "metadata": {},
   "outputs": [
    {
     "name": "stdout",
     "output_type": "stream",
     "text": [
      "total score:  0.252872129775509\n"
     ]
    }
   ],
   "source": [
    "print('total score: ', anzahl_heimgeimpfte / anzahl_geimpfte)"
   ]
  },
  {
   "cell_type": "code",
   "execution_count": 13,
   "id": "a6800d21",
   "metadata": {},
   "outputs": [],
   "source": [
    "_eigenimpfscore_map = {}\n",
    "for g in sorted(gemeinden):\n",
    "    einw = geimpfte[geimpfte['Wohngemeinde']==g]\n",
    "    heim_impfungen = einw[g == einw['Erstimpfung Gemeinde']].shape[0]\n",
    "    anz_einw = einw.shape[0]\n",
    "    score = heim_impfungen / anz_einw\n",
    "    _eigenimpfscore_map[g] = score"
   ]
  },
  {
   "cell_type": "code",
   "execution_count": 14,
   "id": "5eff3fbf",
   "metadata": {},
   "outputs": [
    {
     "name": "stdout",
     "output_type": "stream",
     "text": [
      "{'Aarberg': False, 'Aarwangen': False, 'Adelboden': False, 'Aefligen': False, 'Aegerten': False, 'Aeschi bei Spiez': False, 'Affoltern im Emmental': False, 'Alchenstorf': False, 'Allmendingen': False, 'Amsoldingen': False, 'Arch': False, 'Arni (BE)': False, 'Attiswil': False, 'Bannwil': False, 'Bargen (BE)': False, 'Beatenberg': False, 'Bellmund': False, 'Belp': False, 'Bern': True, 'Bettenhausen': False, 'Biel/Bienne': True, 'Biglen': False, 'Bleienbach': False, 'Blumenstein': False, 'Bolligen': False, 'Boltigen': False, 'Bowil': False, 'Bremgarten bei Bern': False, 'Brienz (BE)': False, 'Brügg': False, 'Brüttelen': False, 'Buchholterberg': False, 'Burgdorf': True, 'Burgistein': False, 'Bäriswil': False, 'Bätterkinden': False, 'Bönigen': False, 'Büetigen': False, 'Büren an der Aare': False, 'Corgémont': False, 'Cortébert': False, 'Court': False, 'Courtelary': False, 'Diemtigen': False, 'Diessbach bei Büren': False, 'Dotzigen': False, 'Därstetten': False, 'Dürrenroth': False, 'Eggiwil': False, 'Eriswil': False, 'Erlach': False, 'Erlenbach im Simmental': False, 'Ersigen': False, 'Evilard': False, 'Fahrni': False, 'Ferenbalm': False, 'Finsterhennen': False, 'Forst-Längenbühl': False, 'Fraubrunnen': False, 'Frauenkappelen': False, 'Frutigen': False, 'Gals': False, 'Gampelen': False, 'Gerzensee': False, 'Gondiswil': False, 'Grindelwald': False, 'Grossaffoltern': False, 'Grosshöchstetten': False, 'Gsteig': False, 'Guggisberg': False, 'Gurzelen': False, 'Habkern': False, 'Hasle bei Burgdorf': False, 'Hasliberg': False, 'Heiligenschwendi': False, 'Heimberg': False, 'Heimenhausen': False, 'Heimiswil': False, 'Herbligen': False, 'Herzogenbuchsee': False, 'Hilterfingen': False, 'Hindelbank': False, 'Hofstetten bei Brienz': False, 'Homberg': False, 'Huttwil': False, 'Inkwil': False, 'Innertkirchen': False, 'Ins': False, 'Interlaken': True, 'Ipsach': False, 'Ittigen': False, 'Jegenstorf': False, 'Jens': False, 'Kallnach': False, 'Kandergrund': False, 'Kandersteg': False, 'Kappelen': False, 'Kaufdorf': False, 'Kehrsatz': False, 'Kernenried': False, 'Kiesen': False, 'Kirchberg (BE)': False, 'Kirchdorf (BE)': False, 'Kirchlindach': False, 'Kleine Gemeinde': False, 'Konolfingen': False, 'Koppigen': False, 'Krattigen': False, 'Krauchthal': False, 'Köniz': False, 'La Ferrière': False, 'La Neuveville': False, 'Landiswil': False, 'Langenthal': True, 'Langnau im Emmental': True, 'Lauenen': False, 'Laupen': False, 'Lauperswil': False, 'Lauterbrunnen': False, 'Leissigen': False, 'Lengnau (BE)': False, 'Lenk': False, 'Leuzigen': False, 'Ligerz': False, 'Linden': False, 'Lotzwil': False, 'Lyss': False, 'Lyssach': False, 'Lüscherz': False, 'Lützelflüh': False, 'Madiswil': False, 'Matten bei Interlaken': False, 'Mattstetten': False, 'Meikirch': False, 'Meinisberg': False, 'Meiringen': False, 'Melchnau': False, 'Mirchel': False, 'Moosseedorf': False, 'Moutier': True, 'Muri bei Bern': False, 'Mörigen': False, 'Mühleberg': False, 'Münchenbuchsee': False, 'Münchenwiler': False, 'Münsingen': False, 'Müntschemier': False, 'Neuenegg': False, 'Nidau': False, 'Niederbipp': False, 'Niederhünigen': False, 'Niedermuhlern': False, 'Niederönz': False, 'Nods': False, 'Oberbalm': False, 'Oberbipp': False, 'Oberburg': False, 'Oberdiessbach': False, 'Oberhofen am Thunersee': False, 'Oberthal': False, 'Oberwil bei Büren': False, 'Oberwil im Simmental': False, 'Ochlenberg': False, 'Oppligen': False, 'Orpund': False, 'Orvin': False, 'Ostermundigen': False, 'Pieterlen': False, 'Plateau de Diesse': False, 'Port': False, 'Péry-La Heutte': False, 'Radelfingen': False, 'Rapperswil (BE)': False, 'Reconvilier': False, 'Reichenbach im Kandertal': False, 'Renan (BE)': False, 'Reutigen': False, 'Riggisberg': False, 'Ringgenberg (BE)': False, 'Roggwil (BE)': False, 'Rohrbach': False, 'Rubigen': False, 'Röthenbach im Emmental': False, 'Rüderswil': False, 'Rüdtligen-Alchenflüh': False, 'Rüeggisberg': False, 'Rüegsau': False, 'Rüschegg': False, 'Rüti bei Büren': False, 'Rütschelen': False, 'Saanen': False, 'Safnern': False, 'Saicourt': False, 'Saint-Imier': True, 'Sauge': False, 'Schangnau': False, 'Schattenhalb': False, 'Schwadernau': False, 'Schwanden bei Brienz': False, 'Schwarzenburg': False, 'Schwarzhäusern': False, 'Schüpfen': False, 'Seeberg': False, 'Seedorf (BE)': False, 'Seftigen': False, 'Signau': False, 'Sigriswil': False, 'Siselen': False, 'Sonceboz-Sombeval': False, 'Sonvilier': False, 'Spiez': False, 'St. Stephan': False, 'Steffisburg': False, 'Stettlen': False, 'Stocken-Höfen': False, 'Studen (BE)': False, 'Sumiswald': False, 'Sutz-Lattrigen': False, 'Tavannes': True, 'Thierachern': False, 'Thun': True, 'Thunstetten': False, 'Thurnen': False, 'Thörigen': False, 'Toffen': False, 'Trachselwald': False, 'Tramelan': False, 'Trub': False, 'Trubschachen': False, 'Twann-Tüscherz': False, 'Täuffelen': False, 'Uebeschi': False, 'Uetendorf': False, 'Unterlangenegg': False, 'Unterseen': True, 'Ursenbach': False, 'Urtenen-Schönbühl': False, 'Uttigen': False, 'Utzenstorf': False, 'Valbirse': False, 'Vechigen': False, 'Villeret': False, 'Vinelz': False, 'Wald (BE)': False, 'Walkringen': False, 'Walliswil bei Wangen': False, 'Walperswil': False, 'Walterswil (BE)': False, 'Wangen an der Aare': False, 'Wattenwil': False, 'Wengi': False, 'Wichtrach': False, 'Wiedlisbach': False, 'Wilderswil': False, 'Wiler bei Utzenstorf': False, 'Wimmis': False, 'Wohlen bei Bern': False, 'Worb': False, 'Worben': False, 'Wynau': False, 'Wynigen': False, 'Wyssachen': False, 'Zollikofen': False, 'Zuzwil (BE)': False, 'Zweisimmen': False, 'Zäziwil': False}\n"
     ]
    }
   ],
   "source": [
    "_hatImpzentrum_map = {}\n",
    "for g in sorted(gemeinden):\n",
    "    impfz = geimpfte[(geimpfte['Erstimpfung ODI Typ'] == 'Impfzentrum') & (geimpfte['Erstimpfung Gemeinde'] == g)]\n",
    "    if impfz.shape[0] > 0:\n",
    "        _hatImpzentrum_map[g] = True\n",
    "    else:\n",
    "        _hatImpzentrum_map[g] = False\n",
    "print(_hatImpzentrum_map)"
   ]
  },
  {
   "cell_type": "code",
   "execution_count": 15,
   "id": "0ff02497",
   "metadata": {
    "scrolled": false
   },
   "outputs": [],
   "source": [
    "df = pd.DataFrame({'score': _eigenimpfscore_map, 'hatImpfzentrum': _hatImpzentrum_map})"
   ]
  },
  {
   "cell_type": "code",
   "execution_count": 16,
   "id": "36d447aa",
   "metadata": {
    "scrolled": true
   },
   "outputs": [
    {
     "data": {
      "text/html": [
       "<div>\n",
       "<style scoped>\n",
       "    .dataframe tbody tr th:only-of-type {\n",
       "        vertical-align: middle;\n",
       "    }\n",
       "\n",
       "    .dataframe tbody tr th {\n",
       "        vertical-align: top;\n",
       "    }\n",
       "\n",
       "    .dataframe thead th {\n",
       "        text-align: right;\n",
       "    }\n",
       "</style>\n",
       "<table border=\"1\" class=\"dataframe\">\n",
       "  <thead>\n",
       "    <tr style=\"text-align: right;\">\n",
       "      <th></th>\n",
       "      <th>score</th>\n",
       "      <th>hatImpfzentrum</th>\n",
       "    </tr>\n",
       "  </thead>\n",
       "  <tbody>\n",
       "    <tr>\n",
       "      <th>Mattstetten</th>\n",
       "      <td>0.000000</td>\n",
       "      <td>False</td>\n",
       "    </tr>\n",
       "    <tr>\n",
       "      <th>Rapperswil (BE)</th>\n",
       "      <td>0.000000</td>\n",
       "      <td>False</td>\n",
       "    </tr>\n",
       "    <tr>\n",
       "      <th>Jens</th>\n",
       "      <td>0.000000</td>\n",
       "      <td>False</td>\n",
       "    </tr>\n",
       "    <tr>\n",
       "      <th>Reutigen</th>\n",
       "      <td>0.000000</td>\n",
       "      <td>False</td>\n",
       "    </tr>\n",
       "    <tr>\n",
       "      <th>Rohrbach</th>\n",
       "      <td>0.000000</td>\n",
       "      <td>False</td>\n",
       "    </tr>\n",
       "    <tr>\n",
       "      <th>...</th>\n",
       "      <td>...</td>\n",
       "      <td>...</td>\n",
       "    </tr>\n",
       "    <tr>\n",
       "      <th>Tavannes</th>\n",
       "      <td>0.610364</td>\n",
       "      <td>True</td>\n",
       "    </tr>\n",
       "    <tr>\n",
       "      <th>Adelboden</th>\n",
       "      <td>0.732905</td>\n",
       "      <td>False</td>\n",
       "    </tr>\n",
       "    <tr>\n",
       "      <th>Thun</th>\n",
       "      <td>0.753158</td>\n",
       "      <td>True</td>\n",
       "    </tr>\n",
       "    <tr>\n",
       "      <th>Bern</th>\n",
       "      <td>0.819131</td>\n",
       "      <td>True</td>\n",
       "    </tr>\n",
       "    <tr>\n",
       "      <th>Langenthal</th>\n",
       "      <td>0.870904</td>\n",
       "      <td>True</td>\n",
       "    </tr>\n",
       "  </tbody>\n",
       "</table>\n",
       "<p>266 rows × 2 columns</p>\n",
       "</div>"
      ],
      "text/plain": [
       "                    score  hatImpfzentrum\n",
       "Mattstetten      0.000000           False\n",
       "Rapperswil (BE)  0.000000           False\n",
       "Jens             0.000000           False\n",
       "Reutigen         0.000000           False\n",
       "Rohrbach         0.000000           False\n",
       "...                   ...             ...\n",
       "Tavannes         0.610364            True\n",
       "Adelboden        0.732905           False\n",
       "Thun             0.753158            True\n",
       "Bern             0.819131            True\n",
       "Langenthal       0.870904            True\n",
       "\n",
       "[266 rows x 2 columns]"
      ]
     },
     "execution_count": 16,
     "metadata": {},
     "output_type": "execute_result"
    }
   ],
   "source": [
    "df.sort_values('score')"
   ]
  },
  {
   "cell_type": "code",
   "execution_count": 17,
   "id": "2433bd83",
   "metadata": {},
   "outputs": [],
   "source": [
    "# df.to_csv('Data_Public/eigenimpfscore.csv')"
   ]
  },
  {
   "cell_type": "code",
   "execution_count": 18,
   "id": "c175e4fa",
   "metadata": {},
   "outputs": [],
   "source": [
    "def clean_gemeindecode():\n",
    "    portrait = pd.read_csv('Data_Public/generated/regionalportraets2021Gemeinden.csv', sep=\";\",\n",
    "                 encoding='Latin1', header=5,\n",
    "                 parse_dates=True )\n",
    "    codes = portrait[['Gemeindecode', 'Gemeindename']].dropna()\n",
    "    return codes.set_index('Gemeindecode')"
   ]
  },
  {
   "cell_type": "code",
   "execution_count": 19,
   "id": "2f7d9981",
   "metadata": {},
   "outputs": [],
   "source": [
    "codes = clean_gemeindecode()"
   ]
  },
  {
   "cell_type": "code",
   "execution_count": 20,
   "id": "b113de31",
   "metadata": {},
   "outputs": [
    {
     "data": {
      "text/html": [
       "<div>\n",
       "<style scoped>\n",
       "    .dataframe tbody tr th:only-of-type {\n",
       "        vertical-align: middle;\n",
       "    }\n",
       "\n",
       "    .dataframe tbody tr th {\n",
       "        vertical-align: top;\n",
       "    }\n",
       "\n",
       "    .dataframe thead th {\n",
       "        text-align: right;\n",
       "    }\n",
       "</style>\n",
       "<table border=\"1\" class=\"dataframe\">\n",
       "  <thead>\n",
       "    <tr style=\"text-align: right;\">\n",
       "      <th></th>\n",
       "      <th>Gemeindename</th>\n",
       "    </tr>\n",
       "    <tr>\n",
       "      <th>Gemeindecode</th>\n",
       "      <th></th>\n",
       "    </tr>\n",
       "  </thead>\n",
       "  <tbody>\n",
       "    <tr>\n",
       "      <th>1</th>\n",
       "      <td>Aeugst am Albis</td>\n",
       "    </tr>\n",
       "    <tr>\n",
       "      <th>2</th>\n",
       "      <td>Affoltern am Albis</td>\n",
       "    </tr>\n",
       "    <tr>\n",
       "      <th>3</th>\n",
       "      <td>Bonstetten</td>\n",
       "    </tr>\n",
       "    <tr>\n",
       "      <th>4</th>\n",
       "      <td>Hausen am Albis</td>\n",
       "    </tr>\n",
       "    <tr>\n",
       "      <th>5</th>\n",
       "      <td>Hedingen</td>\n",
       "    </tr>\n",
       "  </tbody>\n",
       "</table>\n",
       "</div>"
      ],
      "text/plain": [
       "                    Gemeindename\n",
       "Gemeindecode                    \n",
       "1                Aeugst am Albis\n",
       "2             Affoltern am Albis\n",
       "3                     Bonstetten\n",
       "4                Hausen am Albis\n",
       "5                       Hedingen"
      ]
     },
     "execution_count": 20,
     "metadata": {},
     "output_type": "execute_result"
    }
   ],
   "source": [
    "codes.head()"
   ]
  },
  {
   "cell_type": "code",
   "execution_count": 27,
   "id": "4c907f04",
   "metadata": {},
   "outputs": [
    {
     "data": {
      "text/html": [
       "<div>\n",
       "<style scoped>\n",
       "    .dataframe tbody tr th:only-of-type {\n",
       "        vertical-align: middle;\n",
       "    }\n",
       "\n",
       "    .dataframe tbody tr th {\n",
       "        vertical-align: top;\n",
       "    }\n",
       "\n",
       "    .dataframe thead th {\n",
       "        text-align: right;\n",
       "    }\n",
       "</style>\n",
       "<table border=\"1\" class=\"dataframe\">\n",
       "  <thead>\n",
       "    <tr style=\"text-align: right;\">\n",
       "      <th></th>\n",
       "      <th>Gemeindecode</th>\n",
       "      <th>Gemeindename</th>\n",
       "      <th>score</th>\n",
       "      <th>hatImpfzentrum</th>\n",
       "    </tr>\n",
       "  </thead>\n",
       "  <tbody>\n",
       "    <tr>\n",
       "      <th>0</th>\n",
       "      <td>301</td>\n",
       "      <td>Aarberg</td>\n",
       "      <td>0.308426</td>\n",
       "      <td>False</td>\n",
       "    </tr>\n",
       "    <tr>\n",
       "      <th>1</th>\n",
       "      <td>302</td>\n",
       "      <td>Bargen (BE)</td>\n",
       "      <td>0.000000</td>\n",
       "      <td>False</td>\n",
       "    </tr>\n",
       "    <tr>\n",
       "      <th>2</th>\n",
       "      <td>303</td>\n",
       "      <td>Grossaffoltern</td>\n",
       "      <td>0.000000</td>\n",
       "      <td>False</td>\n",
       "    </tr>\n",
       "    <tr>\n",
       "      <th>3</th>\n",
       "      <td>304</td>\n",
       "      <td>Kallnach</td>\n",
       "      <td>0.039074</td>\n",
       "      <td>False</td>\n",
       "    </tr>\n",
       "    <tr>\n",
       "      <th>4</th>\n",
       "      <td>305</td>\n",
       "      <td>Kappelen</td>\n",
       "      <td>0.000000</td>\n",
       "      <td>False</td>\n",
       "    </tr>\n",
       "  </tbody>\n",
       "</table>\n",
       "</div>"
      ],
      "text/plain": [
       "  Gemeindecode    Gemeindename     score  hatImpfzentrum\n",
       "0          301         Aarberg  0.308426           False\n",
       "1          302     Bargen (BE)  0.000000           False\n",
       "2          303  Grossaffoltern  0.000000           False\n",
       "3          304        Kallnach  0.039074           False\n",
       "4          305        Kappelen  0.000000           False"
      ]
     },
     "execution_count": 27,
     "metadata": {},
     "output_type": "execute_result"
    }
   ],
   "source": [
    "merged = pd.merge(codes, df, left_on='Gemeindename', right_index=True).reset_index()\n",
    "merged.head()"
   ]
  },
  {
   "cell_type": "code",
   "execution_count": 42,
   "id": "f2b68f2d",
   "metadata": {
    "scrolled": true
   },
   "outputs": [],
   "source": [
    "merged = merged.rename(columns={'Gemeindecode': 'bfs_nummer', 'score': 'value'})"
   ]
  },
  {
   "cell_type": "code",
   "execution_count": 43,
   "id": "0f2e6a8e",
   "metadata": {},
   "outputs": [],
   "source": [
    "eigenscore = merged[['bfs_nummer', 'value']]"
   ]
  },
  {
   "cell_type": "code",
   "execution_count": 46,
   "id": "89a2af88",
   "metadata": {},
   "outputs": [
    {
     "data": {
      "text/plain": [
       "'[{\"bfs_nummer\":\"301\",\"value\":0.3084255843},{\"bfs_nummer\":\"302\",\"value\":0.0},{\"bfs_nummer\":\"303\",\"value\":0.0},{\"bfs_nummer\":\"304\",\"value\":0.0390738061},{\"bfs_nummer\":\"305\",\"value\":0.0},{\"bfs_nummer\":\"306\",\"value\":0.3148584906},{\"bfs_nummer\":\"307\",\"value\":0.0484554815},{\"bfs_nummer\":\"309\",\"value\":0.0},{\"bfs_nummer\":\"310\",\"value\":0.0},{\"bfs_nummer\":\"311\",\"value\":0.0592320261},{\"bfs_nummer\":\"312\",\"value\":0.1476386978},{\"bfs_nummer\":\"321\",\"value\":0.1687734882},{\"bfs_nummer\":\"323\",\"value\":0.0},{\"bfs_nummer\":\"324\",\"value\":0.0},{\"bfs_nummer\":\"326\",\"value\":0.0},{\"bfs_nummer\":\"329\",\"value\":0.8709039842},{\"bfs_nummer\":\"331\",\"value\":0.0146878825},{\"bfs_nummer\":\"332\",\"value\":0.0},{\"bfs_nummer\":\"333\",\"value\":0.1530886303},{\"bfs_nummer\":\"337\",\"value\":0.113961312},{\"bfs_nummer\":\"338\",\"value\":0.0},{\"bfs_nummer\":\"340\",\"value\":0.0},{\"bfs_nummer\":\"341\",\"value\":0.0},{\"bfs_nummer\":\"342\",\"value\":0.1070184171},{\"bfs_nummer\":\"344\",\"value\":0.0},{\"bfs_nummer\":\"345\",\"value\":0.0},{\"bfs_nummer\":\"351\",\"value\":0.8191313909},{\"bfs_nummer\":\"352\",\"value\":0.0},{\"bfs_nummer\":\"353\",\"value\":0.0322684737},{\"bfs_nummer\":\"354\",\"value\":0.001283148},{\"bfs_nummer\":\"355\",\"value\":0.0256835701},{\"bfs_nummer\":\"356\",\"value\":0.0845382119},{\"bfs_nummer\":\"357\",\"value\":0.0},{\"bfs_nummer\":\"358\",\"value\":0.0362154821},{\"bfs_nummer\":\"359\",\"value\":0.0656399899},{\"bfs_nummer\":\"360\",\"value\":0.0985296347},{\"bfs_nummer\":\"361\",\"value\":0.0946646128},{\"bfs_nummer\":\"362\",\"value\":0.059919571},{\"bfs_nummer\":\"363\",\"value\":0.0609892473},{\"bfs_nummer\":\"371\",\"value\":0.1913278871},{\"bfs_nummer\":\"372\",\"value\":0.0287942412},{\"bfs_nummer\":\"381\",\"value\":0.0174563591},{\"bfs_nummer\":\"382\",\"value\":0.0},{\"bfs_nummer\":\"383\",\"value\":0.1738148984},{\"bfs_nummer\":\"385\",\"value\":0.0},{\"bfs_nummer\":\"386\",\"value\":0.0706126687},{\"bfs_nummer\":\"387\",\"value\":0.1307692308},{\"bfs_nummer\":\"388\",\"value\":0.0},{\"bfs_nummer\":\"390\",\"value\":0.0},{\"bfs_nummer\":\"391\",\"value\":0.0},{\"bfs_nummer\":\"392\",\"value\":0.0577940578},{\"bfs_nummer\":\"393\",\"value\":0.0},{\"bfs_nummer\":\"394\",\"value\":0.0},{\"bfs_nummer\":\"401\",\"value\":0.0},{\"bfs_nummer\":\"402\",\"value\":0.0},{\"bfs_nummer\":\"403\",\"value\":0.0},{\"bfs_nummer\":\"404\",\"value\":0.5559000709},{\"bfs_nummer\":\"405\",\"value\":0.0},{\"bfs_nummer\":\"406\",\"value\":0.1027932961},{\"bfs_nummer\":\"407\",\"value\":0.0391949153},{\"bfs_nummer\":\"409\",\"value\":0.0831928049},{\"bfs_nummer\":\"411\",\"value\":0.0},{\"bfs_nummer\":\"412\",\"value\":0.0316313823},{\"bfs_nummer\":\"413\",\"value\":0.0802631579},{\"bfs_nummer\":\"414\",\"value\":0.0},{\"bfs_nummer\":\"415\",\"value\":0.0},{\"bfs_nummer\":\"418\",\"value\":0.1028248588},{\"bfs_nummer\":\"420\",\"value\":0.0569491525},{\"bfs_nummer\":\"424\",\"value\":0.1560226354},{\"bfs_nummer\":\"431\",\"value\":0.3616200579},{\"bfs_nummer\":\"433\",\"value\":0.0352303523},{\"bfs_nummer\":\"434\",\"value\":0.1039119804},{\"bfs_nummer\":\"435\",\"value\":0.0},{\"bfs_nummer\":\"438\",\"value\":0.0138888889},{\"bfs_nummer\":\"441\",\"value\":0.0915662651},{\"bfs_nummer\":\"443\",\"value\":0.2437166794},{\"bfs_nummer\":\"444\",\"value\":0.0},{\"bfs_nummer\":\"445\",\"value\":0.0},{\"bfs_nummer\":\"446\",\"value\":0.2517228872},{\"bfs_nummer\":\"448\",\"value\":0.0},{\"bfs_nummer\":\"449\",\"value\":0.0},{\"bfs_nummer\":\"450\",\"value\":0.0505243089},{\"bfs_nummer\":\"491\",\"value\":0.1282660333},{\"bfs_nummer\":\"492\",\"value\":0.0},{\"bfs_nummer\":\"493\",\"value\":0.0},{\"bfs_nummer\":\"494\",\"value\":0.0},{\"bfs_nummer\":\"495\",\"value\":0.1466431095},{\"bfs_nummer\":\"496\",\"value\":0.0529308836},{\"bfs_nummer\":\"497\",\"value\":0.0},{\"bfs_nummer\":\"498\",\"value\":0.0},{\"bfs_nummer\":\"499\",\"value\":0.0241286863},{\"bfs_nummer\":\"502\",\"value\":0.0},{\"bfs_nummer\":\"533\",\"value\":0.0},{\"bfs_nummer\":\"538\",\"value\":0.0361517777},{\"bfs_nummer\":\"540\",\"value\":0.0741650295},{\"bfs_nummer\":\"543\",\"value\":0.0},{\"bfs_nummer\":\"544\",\"value\":0.051119403},{\"bfs_nummer\":\"546\",\"value\":0.063723326},{\"bfs_nummer\":\"551\",\"value\":0.1143695015},{\"bfs_nummer\":\"552\",\"value\":0.0484369632},{\"bfs_nummer\":\"554\",\"value\":0.0},{\"bfs_nummer\":\"557\",\"value\":0.0},{\"bfs_nummer\":\"561\",\"value\":0.7329047341},{\"bfs_nummer\":\"562\",\"value\":0.0008196721},{\"bfs_nummer\":\"563\",\"value\":0.2591708917},{\"bfs_nummer\":\"564\",\"value\":0.0},{\"bfs_nummer\":\"565\",\"value\":0.5774499473},{\"bfs_nummer\":\"566\",\"value\":0.2158730159},{\"bfs_nummer\":\"567\",\"value\":0.2173913043},{\"bfs_nummer\":\"571\",\"value\":0.2428057554},{\"bfs_nummer\":\"572\",\"value\":0.0},{\"bfs_nummer\":\"573\",\"value\":0.1173212487},{\"bfs_nummer\":\"576\",\"value\":0.1521647751},{\"bfs_nummer\":\"579\",\"value\":0.0},{\"bfs_nummer\":\"580\",\"value\":0.0},{\"bfs_nummer\":\"581\",\"value\":0.6089399745},{\"bfs_nummer\":\"584\",\"value\":0.461746784},{\"bfs_nummer\":\"585\",\"value\":0.1717877095},{\"bfs_nummer\":\"587\",\"value\":0.0},{\"bfs_nummer\":\"590\",\"value\":0.1078600115},{\"bfs_nummer\":\"592\",\"value\":0.0},{\"bfs_nummer\":\"593\",\"value\":0.1722333001},{\"bfs_nummer\":\"594\",\"value\":0.0},{\"bfs_nummer\":\"602\",\"value\":0.0},{\"bfs_nummer\":\"603\",\"value\":0.0515548282},{\"bfs_nummer\":\"605\",\"value\":0.0},{\"bfs_nummer\":\"608\",\"value\":0.0519899606},{\"bfs_nummer\":\"610\",\"value\":0.0},{\"bfs_nummer\":\"611\",\"value\":0.0},{\"bfs_nummer\":\"612\",\"value\":0.1226775956},{\"bfs_nummer\":\"613\",\"value\":0.0},{\"bfs_nummer\":\"614\",\"value\":0.0},{\"bfs_nummer\":\"615\",\"value\":0.0},{\"bfs_nummer\":\"616\",\"value\":0.1084806046},{\"bfs_nummer\":\"617\",\"value\":0.0},{\"bfs_nummer\":\"619\",\"value\":0.1498011489},{\"bfs_nummer\":\"620\",\"value\":0.0492227979},{\"bfs_nummer\":\"622\",\"value\":0.0},{\"bfs_nummer\":\"623\",\"value\":0.0775623269},{\"bfs_nummer\":\"626\",\"value\":0.0162748644},{\"bfs_nummer\":\"627\",\"value\":0.1265919511},{\"bfs_nummer\":\"628\",\"value\":0.0189243028},{\"bfs_nummer\":\"630\",\"value\":0.0},{\"bfs_nummer\":\"632\",\"value\":0.0409950946},{\"bfs_nummer\":\"662\",\"value\":0.0},{\"bfs_nummer\":\"663\",\"value\":0.0698689956},{\"bfs_nummer\":\"667\",\"value\":0.1340018232},{\"bfs_nummer\":\"668\",\"value\":0.0634425377},{\"bfs_nummer\":\"669\",\"value\":0.0},{\"bfs_nummer\":\"670\",\"value\":0.134806004},{\"bfs_nummer\":\"690\",\"value\":0.0},{\"bfs_nummer\":\"700\",\"value\":0.3039033457},{\"bfs_nummer\":\"703\",\"value\":0.0236220472},{\"bfs_nummer\":\"706\",\"value\":0.0},{\"bfs_nummer\":\"713\",\"value\":0.610363727},{\"bfs_nummer\":\"717\",\"value\":0.1106048053},{\"bfs_nummer\":\"723\",\"value\":0.3006103764},{\"bfs_nummer\":\"724\",\"value\":0.0},{\"bfs_nummer\":\"726\",\"value\":0.0},{\"bfs_nummer\":\"731\",\"value\":0.0007496252},{\"bfs_nummer\":\"732\",\"value\":0.0},{\"bfs_nummer\":\"733\",\"value\":0.0822857143},{\"bfs_nummer\":\"738\",\"value\":0.0},{\"bfs_nummer\":\"739\",\"value\":0.0},{\"bfs_nummer\":\"740\",\"value\":0.0},{\"bfs_nummer\":\"742\",\"value\":0.0},{\"bfs_nummer\":\"743\",\"value\":0.0591798695},{\"bfs_nummer\":\"744\",\"value\":0.0574525745},{\"bfs_nummer\":\"745\",\"value\":0.039452496},{\"bfs_nummer\":\"746\",\"value\":0.0},{\"bfs_nummer\":\"748\",\"value\":0.0},{\"bfs_nummer\":\"749\",\"value\":0.1394891945},{\"bfs_nummer\":\"750\",\"value\":0.0095846645},{\"bfs_nummer\":\"751\",\"value\":0.0443324937},{\"bfs_nummer\":\"754\",\"value\":0.0},{\"bfs_nummer\":\"755\",\"value\":0.1092190252},{\"bfs_nummer\":\"756\",\"value\":0.0},{\"bfs_nummer\":\"761\",\"value\":0.0},{\"bfs_nummer\":\"762\",\"value\":0.0},{\"bfs_nummer\":\"763\",\"value\":0.1685254027},{\"bfs_nummer\":\"766\",\"value\":0.0},{\"bfs_nummer\":\"767\",\"value\":0.0},{\"bfs_nummer\":\"768\",\"value\":0.1767788518},{\"bfs_nummer\":\"769\",\"value\":0.1168918919},{\"bfs_nummer\":\"770\",\"value\":0.0},{\"bfs_nummer\":\"783\",\"value\":0.0126582278},{\"bfs_nummer\":\"784\",\"value\":0.0},{\"bfs_nummer\":\"785\",\"value\":0.1915163026},{\"bfs_nummer\":\"786\",\"value\":0.0901408451},{\"bfs_nummer\":\"791\",\"value\":0.3200692042},{\"bfs_nummer\":\"792\",\"value\":0.3055152395},{\"bfs_nummer\":\"793\",\"value\":0.003502627},{\"bfs_nummer\":\"794\",\"value\":0.3050397878},{\"bfs_nummer\":\"841\",\"value\":0.0},{\"bfs_nummer\":\"842\",\"value\":0.0},{\"bfs_nummer\":\"843\",\"value\":0.1801823417},{\"bfs_nummer\":\"852\",\"value\":0.0},{\"bfs_nummer\":\"853\",\"value\":0.0},{\"bfs_nummer\":\"855\",\"value\":0.0309878844},{\"bfs_nummer\":\"861\",\"value\":0.0721265107},{\"bfs_nummer\":\"863\",\"value\":0.0},{\"bfs_nummer\":\"866\",\"value\":0.0},{\"bfs_nummer\":\"867\",\"value\":0.0},{\"bfs_nummer\":\"869\",\"value\":0.0},{\"bfs_nummer\":\"870\",\"value\":0.005259467},{\"bfs_nummer\":\"872\",\"value\":0.0},{\"bfs_nummer\":\"877\",\"value\":0.0},{\"bfs_nummer\":\"879\",\"value\":0.4179801518},{\"bfs_nummer\":\"880\",\"value\":0.0},{\"bfs_nummer\":\"883\",\"value\":0.0926756353},{\"bfs_nummer\":\"884\",\"value\":0.0},{\"bfs_nummer\":\"885\",\"value\":0.0586890244},{\"bfs_nummer\":\"886\",\"value\":0.0474285714},{\"bfs_nummer\":\"888\",\"value\":0.1399762752},{\"bfs_nummer\":\"889\",\"value\":0.0},{\"bfs_nummer\":\"901\",\"value\":0.1146983857},{\"bfs_nummer\":\"902\",\"value\":0.1663088357},{\"bfs_nummer\":\"903\",\"value\":0.0},{\"bfs_nummer\":\"904\",\"value\":0.0},{\"bfs_nummer\":\"905\",\"value\":0.0451517395},{\"bfs_nummer\":\"906\",\"value\":0.0},{\"bfs_nummer\":\"907\",\"value\":0.0643312102},{\"bfs_nummer\":\"908\",\"value\":0.0},{\"bfs_nummer\":\"909\",\"value\":0.0},{\"bfs_nummer\":\"921\",\"value\":0.0},{\"bfs_nummer\":\"922\",\"value\":0.1904761905},{\"bfs_nummer\":\"923\",\"value\":0.1734177215},{\"bfs_nummer\":\"925\",\"value\":0.0},{\"bfs_nummer\":\"927\",\"value\":0.0835443038},{\"bfs_nummer\":\"928\",\"value\":0.064532917},{\"bfs_nummer\":\"929\",\"value\":0.0573830409},{\"bfs_nummer\":\"931\",\"value\":0.0},{\"bfs_nummer\":\"934\",\"value\":0.0441264162},{\"bfs_nummer\":\"938\",\"value\":0.0515886573},{\"bfs_nummer\":\"939\",\"value\":0.0948974082},{\"bfs_nummer\":\"941\",\"value\":0.0870473538},{\"bfs_nummer\":\"942\",\"value\":0.7531581342},{\"bfs_nummer\":\"943\",\"value\":0.0},{\"bfs_nummer\":\"944\",\"value\":0.149071618},{\"bfs_nummer\":\"945\",\"value\":0.0192307692},{\"bfs_nummer\":\"948\",\"value\":0.0},{\"bfs_nummer\":\"951\",\"value\":0.0},{\"bfs_nummer\":\"952\",\"value\":0.1329879102},{\"bfs_nummer\":\"953\",\"value\":0.0213740458},{\"bfs_nummer\":\"954\",\"value\":0.2325088339},{\"bfs_nummer\":\"955\",\"value\":0.0660377358},{\"bfs_nummer\":\"956\",\"value\":0.0004911591},{\"bfs_nummer\":\"957\",\"value\":0.4051094891},{\"bfs_nummer\":\"958\",\"value\":0.0019762846},{\"bfs_nummer\":\"959\",\"value\":0.0},{\"bfs_nummer\":\"960\",\"value\":0.0},{\"bfs_nummer\":\"971\",\"value\":0.0149812734},{\"bfs_nummer\":\"973\",\"value\":0.0},{\"bfs_nummer\":\"977\",\"value\":0.0013404826},{\"bfs_nummer\":\"979\",\"value\":0.1268480823},{\"bfs_nummer\":\"980\",\"value\":0.0},{\"bfs_nummer\":\"981\",\"value\":0.0555555556},{\"bfs_nummer\":\"982\",\"value\":0.0460526316},{\"bfs_nummer\":\"983\",\"value\":0.05},{\"bfs_nummer\":\"985\",\"value\":0.0},{\"bfs_nummer\":\"988\",\"value\":0.004454343},{\"bfs_nummer\":\"989\",\"value\":0.0},{\"bfs_nummer\":\"991\",\"value\":0.0},{\"bfs_nummer\":\"992\",\"value\":0.0007668712},{\"bfs_nummer\":\"995\",\"value\":0.1239067055}]'"
      ]
     },
     "execution_count": 46,
     "metadata": {},
     "output_type": "execute_result"
    }
   ],
   "source": [
    "eigenscore.to_json(orient='records')"
   ]
  },
  {
   "cell_type": "code",
   "execution_count": 40,
   "id": "84d03be8",
   "metadata": {},
   "outputs": [
    {
     "name": "stderr",
     "output_type": "stream",
     "text": [
      "/tmp/ipykernel_43407/1411881114.py:1: SettingWithCopyWarning: \n",
      "A value is trying to be set on a copy of a slice from a DataFrame.\n",
      "Try using .loc[row_indexer,col_indexer] = value instead\n",
      "\n",
      "See the caveats in the documentation: https://pandas.pydata.org/pandas-docs/stable/user_guide/indexing.html#returning-a-view-versus-a-copy\n",
      "  eigenscore['slider_value'] = 'Total'\n"
     ]
    }
   ],
   "source": [
    "eigenscore['slider_value'] = 'Total'"
   ]
  },
  {
   "cell_type": "code",
   "execution_count": 41,
   "id": "01f87cbb",
   "metadata": {},
   "outputs": [
    {
     "data": {
      "text/html": [
       "<div>\n",
       "<style scoped>\n",
       "    .dataframe tbody tr th:only-of-type {\n",
       "        vertical-align: middle;\n",
       "    }\n",
       "\n",
       "    .dataframe tbody tr th {\n",
       "        vertical-align: top;\n",
       "    }\n",
       "\n",
       "    .dataframe thead th {\n",
       "        text-align: right;\n",
       "    }\n",
       "</style>\n",
       "<table border=\"1\" class=\"dataframe\">\n",
       "  <thead>\n",
       "    <tr style=\"text-align: right;\">\n",
       "      <th></th>\n",
       "      <th>bfs_nummer</th>\n",
       "      <th>value</th>\n",
       "      <th>slider_value</th>\n",
       "    </tr>\n",
       "  </thead>\n",
       "  <tbody>\n",
       "    <tr>\n",
       "      <th>0</th>\n",
       "      <td>301</td>\n",
       "      <td>0.308426</td>\n",
       "      <td>Total</td>\n",
       "    </tr>\n",
       "    <tr>\n",
       "      <th>1</th>\n",
       "      <td>302</td>\n",
       "      <td>0.000000</td>\n",
       "      <td>Total</td>\n",
       "    </tr>\n",
       "    <tr>\n",
       "      <th>2</th>\n",
       "      <td>303</td>\n",
       "      <td>0.000000</td>\n",
       "      <td>Total</td>\n",
       "    </tr>\n",
       "    <tr>\n",
       "      <th>3</th>\n",
       "      <td>304</td>\n",
       "      <td>0.039074</td>\n",
       "      <td>Total</td>\n",
       "    </tr>\n",
       "    <tr>\n",
       "      <th>4</th>\n",
       "      <td>305</td>\n",
       "      <td>0.000000</td>\n",
       "      <td>Total</td>\n",
       "    </tr>\n",
       "    <tr>\n",
       "      <th>...</th>\n",
       "      <td>...</td>\n",
       "      <td>...</td>\n",
       "      <td>...</td>\n",
       "    </tr>\n",
       "    <tr>\n",
       "      <th>260</th>\n",
       "      <td>988</td>\n",
       "      <td>0.004454</td>\n",
       "      <td>Total</td>\n",
       "    </tr>\n",
       "    <tr>\n",
       "      <th>261</th>\n",
       "      <td>989</td>\n",
       "      <td>0.000000</td>\n",
       "      <td>Total</td>\n",
       "    </tr>\n",
       "    <tr>\n",
       "      <th>262</th>\n",
       "      <td>991</td>\n",
       "      <td>0.000000</td>\n",
       "      <td>Total</td>\n",
       "    </tr>\n",
       "    <tr>\n",
       "      <th>263</th>\n",
       "      <td>992</td>\n",
       "      <td>0.000767</td>\n",
       "      <td>Total</td>\n",
       "    </tr>\n",
       "    <tr>\n",
       "      <th>264</th>\n",
       "      <td>995</td>\n",
       "      <td>0.123907</td>\n",
       "      <td>Total</td>\n",
       "    </tr>\n",
       "  </tbody>\n",
       "</table>\n",
       "<p>265 rows × 3 columns</p>\n",
       "</div>"
      ],
      "text/plain": [
       "    bfs_nummer     value slider_value\n",
       "0          301  0.308426        Total\n",
       "1          302  0.000000        Total\n",
       "2          303  0.000000        Total\n",
       "3          304  0.039074        Total\n",
       "4          305  0.000000        Total\n",
       "..         ...       ...          ...\n",
       "260        988  0.004454        Total\n",
       "261        989  0.000000        Total\n",
       "262        991  0.000000        Total\n",
       "263        992  0.000767        Total\n",
       "264        995  0.123907        Total\n",
       "\n",
       "[265 rows x 3 columns]"
      ]
     },
     "execution_count": 41,
     "metadata": {},
     "output_type": "execute_result"
    }
   ],
   "source": [
    "eigenscore.to_csv('')"
   ]
  },
  {
   "cell_type": "code",
   "execution_count": null,
   "id": "4e3909e3",
   "metadata": {},
   "outputs": [],
   "source": []
  }
 ],
 "metadata": {
  "kernelspec": {
   "display_name": "Python 3",
   "language": "python",
   "name": "python3"
  },
  "language_info": {
   "codemirror_mode": {
    "name": "ipython",
    "version": 3
   },
   "file_extension": ".py",
   "mimetype": "text/x-python",
   "name": "python",
   "nbconvert_exporter": "python",
   "pygments_lexer": "ipython3",
   "version": "3.9.7"
  }
 },
 "nbformat": 4,
 "nbformat_minor": 5
}
