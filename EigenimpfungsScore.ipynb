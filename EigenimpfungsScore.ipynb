{
 "cells": [
  {
   "cell_type": "code",
   "execution_count": null,
   "id": "75e79d48",
   "metadata": {},
   "outputs": [],
   "source": [
    "import pandas as pd\n",
    "import numpy as np\n",
    "from matplotlib import pyplot as plt\n",
    "%matplotlib inline"
   ]
  },
  {
   "cell_type": "code",
   "execution_count": null,
   "id": "80058810",
   "metadata": {},
   "outputs": [],
   "source": [
    "data = pd.read_csv('Data_Private/prepared/cleaned_VacMe_Gemeinden_ueber_500.csv')"
   ]
  },
  {
   "cell_type": "code",
   "execution_count": null,
   "id": "05b43f36",
   "metadata": {},
   "outputs": [],
   "source": [
    "data.head()"
   ]
  },
  {
   "cell_type": "code",
   "execution_count": null,
   "id": "184d517e",
   "metadata": {},
   "outputs": [],
   "source": [
    "data['Erstimpfung ODI Typ'].unique()"
   ]
  },
  {
   "cell_type": "code",
   "execution_count": null,
   "id": "0744a846",
   "metadata": {},
   "outputs": [],
   "source": [
    "gemeinden = data['Wohngemeinde'].unique()\n",
    "gemeinden = [g for g in gemeinden if type(g) is str]"
   ]
  },
  {
   "cell_type": "code",
   "execution_count": null,
   "id": "85da8606",
   "metadata": {},
   "outputs": [],
   "source": [
    "geimpfte_thuner = data[data['Wohngemeinde']=='Thun'].shape[0]"
   ]
  },
  {
   "cell_type": "code",
   "execution_count": null,
   "id": "53610d40",
   "metadata": {},
   "outputs": [],
   "source": [
    "geimpfte = data[data['Vollstaendiger_Impfschutz'] == 'WAHR']"
   ]
  },
  {
   "cell_type": "code",
   "execution_count": null,
   "id": "6aac33d9",
   "metadata": {},
   "outputs": [],
   "source": [
    "geimpfte.shape[0]"
   ]
  },
  {
   "cell_type": "code",
   "execution_count": null,
   "id": "d312f33f",
   "metadata": {
    "scrolled": true
   },
   "outputs": [],
   "source": [
    "geimpfte[geimpfte['Zweitimpfung Gemeinde'] != geimpfte['Erstimpfung Gemeinde']].shape[0]"
   ]
  },
  {
   "cell_type": "code",
   "execution_count": null,
   "id": "5fe51471",
   "metadata": {},
   "outputs": [],
   "source": [
    "anzahl_heimgeimpfte = geimpfte[geimpfte['Wohngemeinde'] == geimpfte['Erstimpfung Gemeinde']].shape[0]"
   ]
  },
  {
   "cell_type": "code",
   "execution_count": null,
   "id": "90313a7c",
   "metadata": {},
   "outputs": [],
   "source": [
    "anzahl_geimpfte = geimpfte.shape[0]"
   ]
  },
  {
   "cell_type": "code",
   "execution_count": null,
   "id": "f3c64438",
   "metadata": {},
   "outputs": [],
   "source": [
    "print('total score: ', anzahl_heimgeimpfte / anzahl_geimpfte)"
   ]
  },
  {
   "cell_type": "code",
   "execution_count": null,
   "id": "e55ed6a3",
   "metadata": {},
   "outputs": [],
   "source": [
    "_eigenimpfscore_map = {}\n",
    "for g in sorted(gemeinden):\n",
    "    einw = geimpfte[geimpfte['Wohngemeinde']==g]\n",
    "    heim_impfungen = einw[g == einw['Erstimpfung Gemeinde']].shape[0]\n",
    "    anz_einw = einw.shape[0]\n",
    "    score = heim_impfungen / anz_einw\n",
    "    _eigenimpfscore_map[g] = score"
   ]
  },
  {
   "cell_type": "code",
   "execution_count": null,
   "id": "61d0a944",
   "metadata": {},
   "outputs": [],
   "source": [
    "_hatImpzentrum_map = {}\n",
    "for g in sorted(gemeinden):\n",
    "    impfz = geimpfte[(geimpfte['Erstimpfung ODI Typ'] == 'Impfzentrum') & (geimpfte['Erstimpfung Gemeinde'] == g)]\n",
    "    if impfz.shape[0] > 0:\n",
    "        _hatImpzentrum_map[g] = True\n",
    "    else:\n",
    "        _hatImpzentrum_map[g] = False\n",
    "print(_hatImpzentrum_map)"
   ]
  },
  {
   "cell_type": "code",
   "execution_count": null,
   "id": "679439d6",
   "metadata": {
    "scrolled": false
   },
   "outputs": [],
   "source": [
    "df = pd.DataFrame({'score': _eigenimpfscore_map, 'hatImpfzentrum': _hatImpzentrum_map})"
   ]
  },
  {
   "cell_type": "code",
   "execution_count": null,
   "id": "1b9e8eab",
   "metadata": {
    "scrolled": true
   },
   "outputs": [],
   "source": [
    "df.sort_values('score')"
   ]
  },
  {
   "cell_type": "code",
   "execution_count": null,
   "id": "a6a0e23f",
   "metadata": {},
   "outputs": [],
   "source": [
    "# df.to_csv('Data_Public/eigenimpfscore.csv')"
   ]
  },
  {
   "cell_type": "code",
   "execution_count": null,
   "id": "6e277b36",
   "metadata": {},
   "outputs": [],
   "source": [
    "def clean_gemeindecode():\n",
    "    portrait = pd.read_csv('Data_Public/generated/regionalportraets2021Gemeinden.csv', sep=\";\",\n",
    "                 encoding='Latin1', header=5,\n",
    "                 parse_dates=True )\n",
    "    codes = portrait[['Gemeindecode', 'Gemeindename']].dropna()\n",
    "    return codes.set_index('Gemeindecode')"
   ]
  },
  {
   "cell_type": "code",
   "execution_count": null,
   "id": "3ac574de",
   "metadata": {},
   "outputs": [],
   "source": [
    "codes = clean_gemeindecode()"
   ]
  },
  {
   "cell_type": "code",
   "execution_count": null,
   "id": "dd4d12be",
   "metadata": {},
   "outputs": [],
   "source": [
    "codes.head()"
   ]
  },
  {
   "cell_type": "code",
   "execution_count": null,
   "id": "48565d1d",
   "metadata": {},
   "outputs": [],
   "source": [
    "codes.to_csv('Data_Public/generated/gemeindecodes.csv')"
   ]
  },
  {
   "cell_type": "code",
   "execution_count": null,
   "id": "df0c6b18",
   "metadata": {},
   "outputs": [],
   "source": []
  }
 ],
 "metadata": {
  "kernelspec": {
   "display_name": "Python 3",
   "language": "python",
   "name": "python3"
  },
  "language_info": {
   "codemirror_mode": {
    "name": "ipython",
    "version": 3
   },
   "file_extension": ".py",
   "mimetype": "text/x-python",
   "name": "python",
   "nbconvert_exporter": "python",
   "pygments_lexer": "ipython3",
   "version": "3.9.7"
  }
 },
 "nbformat": 4,
 "nbformat_minor": 5
}
